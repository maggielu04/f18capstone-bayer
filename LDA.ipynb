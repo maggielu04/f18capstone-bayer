{
 "cells": [
  {
   "cell_type": "markdown",
   "metadata": {},
   "source": [
    "# LDA demo\n",
    "### source: https://gist.github.com/georgehc/d2353feef7e09b4b53fc087d44f75954"
   ]
  },
  {
   "cell_type": "code",
   "execution_count": 24,
   "metadata": {},
   "outputs": [],
   "source": [
    "import nltk\n",
    "import json"
   ]
  },
  {
   "cell_type": "code",
   "execution_count": 26,
   "metadata": {},
   "outputs": [],
   "source": [
    "content = []\n",
    "for line in open('JACS.json', 'r'):\n",
    "    content.append(json.loads(line))"
   ]
  },
  {
   "cell_type": "code",
   "execution_count": 9,
   "metadata": {
    "scrolled": true
   },
   "outputs": [],
   "source": [
    "Total = []\n",
    "for c in content:\n",
    "    ##using both title and content\n",
    "    total = c['Title']\n",
    "    Total.append(total)\n",
    "    \n",
    "#print(Total)"
   ]
  },
  {
   "cell_type": "code",
   "execution_count": 10,
   "metadata": {},
   "outputs": [],
   "source": [
    "vocab_size = 1000\n",
    "from sklearn.feature_extraction.text import CountVectorizer\n",
    "\n",
    "# document frequency (df) means number of documents a word appears in\n",
    "tf_vectorizer = CountVectorizer(max_df=0.95,\n",
    "                                min_df=2,\n",
    "                                max_features=vocab_size,\n",
    "                                stop_words='english')\n",
    "tf = tf_vectorizer.fit_transform(Total)"
   ]
  },
  {
   "cell_type": "code",
   "execution_count": 11,
   "metadata": {},
   "outputs": [
    {
     "data": {
      "text/plain": [
       "LatentDirichletAllocation(batch_size=128, doc_topic_prior=None,\n",
       "             evaluate_every=-1, learning_decay=0.7,\n",
       "             learning_method='online', learning_offset=10.0,\n",
       "             max_doc_update_iter=100, max_iter=10, mean_change_tol=0.001,\n",
       "             n_components=20, n_jobs=1, n_topics=None, perp_tol=0.1,\n",
       "             random_state=95865, topic_word_prior=None,\n",
       "             total_samples=1000000.0, verbose=0)"
      ]
     },
     "execution_count": 11,
     "metadata": {},
     "output_type": "execute_result"
    }
   ],
   "source": [
    "num_topics = 20\n",
    "\n",
    "from sklearn.decomposition import LatentDirichletAllocation\n",
    "lda = LatentDirichletAllocation(n_components=num_topics, learning_method='online', random_state=95865)\n",
    "lda.fit(tf)"
   ]
  },
  {
   "cell_type": "code",
   "execution_count": 12,
   "metadata": {},
   "outputs": [],
   "source": [
    "import numpy as np\n",
    "topic_word_distributions = np.array([topic_word_pseudocounts / np.sum(topic_word_pseudocounts)\n",
    "                                     for topic_word_pseudocounts in lda.components_])"
   ]
  },
  {
   "cell_type": "code",
   "execution_count": 13,
   "metadata": {},
   "outputs": [
    {
     "name": "stdout",
     "output_type": "stream",
     "text": [
      "Displaying the top 3 words per topic and their probabilities within the topic...\n",
      "\n",
      "[Topic 0]\n",
      "catalyzed: 0.099926\n",
      "enantioselective: 0.050113\n",
      "asymmetric: 0.026763\n",
      "\n",
      "[Topic 1]\n",
      "acid: 0.061242\n",
      "assisted: 0.054093\n",
      "release: 0.047830\n",
      "\n",
      "[Topic 2]\n",
      "high: 0.054280\n",
      "structure: 0.048515\n",
      "organic: 0.039508\n",
      "\n",
      "[Topic 3]\n",
      "organic: 0.063362\n",
      "metal: 0.061175\n",
      "assembly: 0.057230\n",
      "\n",
      "[Topic 4]\n",
      "synthesis: 0.088919\n",
      "acid: 0.035682\n",
      "total: 0.027334\n",
      "\n",
      "[Topic 5]\n",
      "catalytic: 0.049506\n",
      "structural: 0.044886\n",
      "based: 0.042281\n",
      "\n",
      "[Topic 6]\n",
      "oxidation: 0.069529\n",
      "responsive: 0.064461\n",
      "absorption: 0.037167\n",
      "\n",
      "[Topic 7]\n",
      "reactions: 0.075561\n",
      "chemical: 0.063651\n",
      "electrochemical: 0.058867\n",
      "\n",
      "[Topic 8]\n",
      "alkenes: 0.053754\n",
      "reaction: 0.053373\n",
      "driven: 0.027310\n",
      "\n",
      "[Topic 9]\n",
      "transfer: 0.047278\n",
      "protein: 0.035475\n",
      "radical: 0.034704\n",
      "\n",
      "[Topic 10]\n",
      "imaging: 0.040989\n",
      "reveals: 0.029048\n",
      "binding: 0.027287\n",
      "\n",
      "[Topic 11]\n",
      "molecular: 0.103067\n",
      "design: 0.037005\n",
      "correction: 0.025311\n",
      "\n",
      "[Topic 12]\n",
      "light: 0.040551\n",
      "oxygen: 0.038857\n",
      "surface: 0.037438\n",
      "\n",
      "[Topic 13]\n",
      "formation: 0.045807\n",
      "selective: 0.044510\n",
      "co2: 0.040481\n",
      "\n",
      "[Topic 14]\n",
      "fluorescent: 0.093585\n",
      "proteins: 0.063997\n",
      "function: 0.047391\n",
      "\n",
      "[Topic 15]\n",
      "complex: 0.063026\n",
      "ii: 0.056655\n",
      "magnetic: 0.036734\n",
      "\n",
      "[Topic 16]\n",
      "dimensional: 0.060606\n",
      "single: 0.041699\n",
      "enhanced: 0.039647\n",
      "\n",
      "[Topic 17]\n",
      "state: 0.051903\n",
      "solid: 0.048354\n",
      "ion: 0.035996\n",
      "\n",
      "[Topic 18]\n",
      "supramolecular: 0.105883\n",
      "dna: 0.080115\n",
      "carbon: 0.074437\n",
      "\n",
      "[Topic 19]\n",
      "nanoparticles: 0.052795\n",
      "stable: 0.028192\n",
      "gold: 0.028151\n",
      "\n"
     ]
    }
   ],
   "source": [
    "num_top_words = 3\n",
    "\n",
    "print('Displaying the top %d words per topic and their probabilities within the topic...' % num_top_words)\n",
    "print()\n",
    "\n",
    "import numpy as np\n",
    "for topic_idx in range(num_topics):\n",
    "    print('[Topic %d]' % topic_idx)\n",
    "    sort_indices = np.argsort(topic_word_distributions[topic_idx])[::-1]\n",
    "    for rank in range(num_top_words):\n",
    "        word_idx = sort_indices[rank]\n",
    "        print('%s: %f' % (tf_vectorizer.get_feature_names()[word_idx], topic_word_distributions[topic_idx, word_idx]))\n",
    "    print()\n"
   ]
  },
  {
   "cell_type": "markdown",
   "metadata": {},
   "source": [
    "# Another Way of doing LDA\n",
    "### Source: https://rstudio-pubs-static.s3.amazonaws.com/79360_850b2a69980c4488b1db95987a24867a.html"
   ]
  },
  {
   "cell_type": "code",
   "execution_count": 14,
   "metadata": {
    "scrolled": true
   },
   "outputs": [
    {
     "name": "stdout",
     "output_type": "stream",
     "text": [
      "[nltk_data] Downloading package stopwords to\n",
      "[nltk_data]     /Users/Maggie/nltk_data...\n",
      "[nltk_data]   Package stopwords is already up-to-date!\n",
      "[nltk_data] Downloading package wordnet to /Users/Maggie/nltk_data...\n",
      "[nltk_data]   Package wordnet is already up-to-date!\n"
     ]
    }
   ],
   "source": [
    "from nltk.corpus import stopwords \n",
    "nltk.download('stopwords')\n",
    "nltk.download('wordnet')\n",
    "from nltk.stem.wordnet import WordNetLemmatizer\n",
    "import string\n",
    "stop = set(stopwords.words('english'))\n",
    "exclude = set(string.punctuation) \n",
    "lemma = WordNetLemmatizer()\n",
    "def clean(doc):\n",
    "    stop_free = \" \".join([i for i in doc.lower().split() if i not in stop])\n",
    "    punc_free = ''.join(ch for ch in stop_free if ch not in exclude)\n",
    "    normalized = \" \".join(lemma.lemmatize(word) for word in punc_free.split())\n",
    "    return normalized\n",
    "\n",
    "doc_clean = [clean(entry).split() for entry in Total]\n",
    "\n",
    "#print(doc_clean)"
   ]
  },
  {
   "cell_type": "code",
   "execution_count": 15,
   "metadata": {},
   "outputs": [],
   "source": [
    "import gensim\n",
    "from gensim import corpora\n",
    "\n",
    "# Creating the term dictionary of our courpus, where every unique term is assigned an index. \n",
    "dictionary = corpora.Dictionary(doc_clean)\n",
    "\n",
    "# Converting list of documents (corpus) into Document Term Matrix using dictionary prepared above.\n",
    "doc_term_matrix = [dictionary.doc2bow(doc) for doc in doc_clean]\n",
    "\n",
    "\n",
    "#mystring = mystring..decode(‘utf-8’)\n",
    "\n"
   ]
  },
  {
   "cell_type": "code",
   "execution_count": 16,
   "metadata": {},
   "outputs": [
    {
     "name": "stderr",
     "output_type": "stream",
     "text": [
      "/Users/Maggie/anaconda3/lib/python3.6/site-packages/gensim/models/ldamodel.py:678: RuntimeWarning: overflow encountered in exp\n",
      "  expElogthetad = np.exp(Elogthetad)\n"
     ]
    }
   ],
   "source": [
    "Lda = gensim.models.ldamodel.LdaModel\n",
    "ldamodel = Lda(doc_term_matrix, num_topics=15, id2word = dictionary, passes=50)\n"
   ]
  },
  {
   "cell_type": "code",
   "execution_count": 11,
   "metadata": {},
   "outputs": [
    {
     "name": "stdout",
     "output_type": "stream",
     "text": [
      "[(0, '0.007*\"reaction\" + 0.006*\"surface\" + 0.005*\"catalyst\" + 0.005*\"co2\"'), (1, '0.015*\"reaction\" + 0.010*\"catalyst\" + 0.009*\"synthesis\" + 0.007*\"bond\"'), (2, '0.005*\"ligand\" + 0.005*\"site\" + 0.004*\"molecular\" + 0.004*\"state\"'), (3, '0.007*\"complex\" + 0.005*\"reaction\" + 0.004*\"material\" + 0.004*\"state\"'), (4, '0.009*\"cell\" + 0.008*\"imaging\" + 0.005*\"fluorescence\" + 0.004*\"probe\"'), (5, '0.005*\"structure\" + 0.004*\"state\" + 0.004*\"electron\" + 0.004*\"effect\"'), (6, '0.011*\"complex\" + 0.009*\"state\" + 0.007*\"reaction\" + 0.006*\"ligand\"'), (7, '0.007*\"protein\" + 0.005*\"rna\" + 0.005*\"reaction\" + 0.004*\"structure\"'), (8, '0.010*\"cell\" + 0.005*\"protein\" + 0.005*\"molecular\" + 0.004*\"material\"'), (9, '0.006*\"cofs\" + 0.005*\"structure\" + 0.005*\"organic\" + 0.005*\"synthesis\"'), (10, '0.011*\"protein\" + 0.008*\"cell\" + 0.008*\"dna\" + 0.008*\"surface\"'), (11, '0.006*\"structure\" + 0.005*\"framework\" + 0.004*\"reaction\" + 0.004*\"metal\"'), (12, '0.018*\"bond\" + 0.008*\"reaction\" + 0.007*\"intermediate\" + 0.007*\"complex\"'), (13, '0.006*\"protein\" + 0.005*\"film\" + 0.004*\"mechanism\" + 0.004*\"material\"'), (14, '0.006*\"molecular\" + 0.005*\"structure\" + 0.004*\"organic\" + 0.004*\"ion\"')]\n"
     ]
    }
   ],
   "source": [
    "print(ldamodel.print_topics(num_topics=15, num_words=4))"
   ]
  },
  {
   "cell_type": "code",
   "execution_count": null,
   "metadata": {},
   "outputs": [],
   "source": []
  }
 ],
 "metadata": {
  "kernelspec": {
   "display_name": "Python 3",
   "language": "python",
   "name": "python3"
  },
  "language_info": {
   "codemirror_mode": {
    "name": "ipython",
    "version": 3
   },
   "file_extension": ".py",
   "mimetype": "text/x-python",
   "name": "python",
   "nbconvert_exporter": "python",
   "pygments_lexer": "ipython3",
   "version": "3.6.4"
  }
 },
 "nbformat": 4,
 "nbformat_minor": 2
}
