{
 "cells": [
  {
   "cell_type": "markdown",
   "metadata": {},
   "source": [
    "# LDA demo\n",
    "### source: https://gist.github.com/georgehc/d2353feef7e09b4b53fc087d44f75954"
   ]
  },
  {
   "cell_type": "code",
   "execution_count": 1,
   "metadata": {},
   "outputs": [
    {
     "name": "stderr",
     "output_type": "stream",
     "text": [
      "/Users/xinpengzheng/anaconda3/lib/python3.6/site-packages/scipy/sparse/sparsetools.py:20: DeprecationWarning: `scipy.sparse.sparsetools` is deprecated!\n",
      "scipy.sparse.sparsetools is a private module for scipy.sparse, and should not be used.\n",
      "  _deprecated()\n"
     ]
    }
   ],
   "source": [
    "import nltk\n",
    "import json\n",
    "import pyLDAvis\n",
    "import pyLDAvis.gensim  # don't skip this\n",
    "import matplotlib.pyplot as plt\n",
    "%matplotlib inline\n",
    "import random\n",
    "from gensim.models import CoherenceModel"
   ]
  },
  {
   "cell_type": "code",
   "execution_count": 4,
   "metadata": {},
   "outputs": [],
   "source": [
    "content = []\n",
    "for line in open('JACS.json', 'r'):\n",
    "    content.append(json.loads(line))"
   ]
  },
  {
   "cell_type": "markdown",
   "metadata": {},
   "source": [
    "## To load eupmc.json"
   ]
  },
  {
   "cell_type": "code",
   "execution_count": 3,
   "metadata": {},
   "outputs": [
    {
     "ename": "FileNotFoundError",
     "evalue": "[Errno 2] No such file or directory: 'eupmc.json'",
     "output_type": "error",
     "traceback": [
      "\u001b[0;31m---------------------------------------------------------------------------\u001b[0m",
      "\u001b[0;31mFileNotFoundError\u001b[0m                         Traceback (most recent call last)",
      "\u001b[0;32m<ipython-input-3-0de8c4b367fc>\u001b[0m in \u001b[0;36m<module>\u001b[0;34m()\u001b[0m\n\u001b[1;32m      1\u001b[0m \u001b[0mcontent\u001b[0m \u001b[0;34m=\u001b[0m \u001b[0;34m[\u001b[0m\u001b[0;34m]\u001b[0m\u001b[0;34m\u001b[0m\u001b[0m\n\u001b[0;32m----> 2\u001b[0;31m \u001b[0;32mwith\u001b[0m \u001b[0mopen\u001b[0m\u001b[0;34m(\u001b[0m\u001b[0;34m'eupmc.json'\u001b[0m\u001b[0;34m)\u001b[0m \u001b[0;32mas\u001b[0m \u001b[0mjson_data\u001b[0m\u001b[0;34m:\u001b[0m\u001b[0;34m\u001b[0m\u001b[0m\n\u001b[0m\u001b[1;32m      3\u001b[0m     \u001b[0mcontent\u001b[0m \u001b[0;34m=\u001b[0m \u001b[0mjson\u001b[0m\u001b[0;34m.\u001b[0m\u001b[0mload\u001b[0m\u001b[0;34m(\u001b[0m\u001b[0mjson_data\u001b[0m\u001b[0;34m)\u001b[0m\u001b[0;34m\u001b[0m\u001b[0m\n",
      "\u001b[0;31mFileNotFoundError\u001b[0m: [Errno 2] No such file or directory: 'eupmc.json'"
     ]
    }
   ],
   "source": [
    "content = []\n",
    "with open('eupmc.json') as json_data:\n",
    "    content = json.load(json_data)"
   ]
  },
  {
   "cell_type": "code",
   "execution_count": 5,
   "metadata": {
    "scrolled": true
   },
   "outputs": [],
   "source": [
    "Total = []\n",
    "for c in content:\n",
    "    ##using both title and content\n",
    "    total = c['Title']\n",
    "    Total.append(total)\n",
    "    \n",
    "#print(Total)"
   ]
  },
  {
   "cell_type": "code",
   "execution_count": 6,
   "metadata": {},
   "outputs": [],
   "source": [
    "vocab_size = 1000\n",
    "from sklearn.feature_extraction.text import CountVectorizer\n",
    "\n",
    "# document frequency (df) means number of documents a word appears in\n",
    "tf_vectorizer = CountVectorizer(max_df=0.95,\n",
    "                                min_df=2,\n",
    "                                max_features=vocab_size,\n",
    "                                stop_words='english')\n",
    "tf = tf_vectorizer.fit_transform(Total)"
   ]
  },
  {
   "cell_type": "code",
   "execution_count": 7,
   "metadata": {},
   "outputs": [
    {
     "data": {
      "text/plain": [
       "LatentDirichletAllocation(batch_size=128, doc_topic_prior=None,\n",
       "             evaluate_every=-1, learning_decay=0.7,\n",
       "             learning_method='online', learning_offset=10.0,\n",
       "             max_doc_update_iter=100, max_iter=10, mean_change_tol=0.001,\n",
       "             n_components=20, n_jobs=1, n_topics=None, perp_tol=0.1,\n",
       "             random_state=95865, topic_word_prior=None,\n",
       "             total_samples=1000000.0, verbose=0)"
      ]
     },
     "execution_count": 7,
     "metadata": {},
     "output_type": "execute_result"
    }
   ],
   "source": [
    "num_topics = 20\n",
    "\n",
    "from sklearn.decomposition import LatentDirichletAllocation\n",
    "lda = LatentDirichletAllocation(n_components=num_topics, learning_method='online', random_state=95865)\n",
    "lda.fit(tf)"
   ]
  },
  {
   "cell_type": "code",
   "execution_count": 8,
   "metadata": {},
   "outputs": [],
   "source": [
    "import numpy as np\n",
    "topic_word_distributions = np.array([topic_word_pseudocounts / np.sum(topic_word_pseudocounts)\n",
    "                                     for topic_word_pseudocounts in lda.components_])"
   ]
  },
  {
   "cell_type": "code",
   "execution_count": 9,
   "metadata": {},
   "outputs": [
    {
     "name": "stdout",
     "output_type": "stream",
     "text": [
      "Displaying the top 10 words per topic and their probabilities within the topic...\n",
      "\n",
      "[Topic 0]\n",
      "catalyzed: 0.099926\n",
      "enantioselective: 0.050113\n",
      "asymmetric: 0.026763\n",
      "synthesis: 0.019837\n",
      "using: 0.019002\n",
      "nickel: 0.018188\n",
      "chiral: 0.017714\n",
      "reductive: 0.017294\n",
      "cross: 0.016656\n",
      "complexes: 0.014703\n",
      "\n",
      "[Topic 1]\n",
      "acid: 0.061242\n",
      "assisted: 0.054093\n",
      "release: 0.047830\n",
      "rapid: 0.035966\n",
      "programmable: 0.035471\n",
      "triggered: 0.031625\n",
      "investigation: 0.028476\n",
      "labeling: 0.027890\n",
      "bioorthogonal: 0.026798\n",
      "nucleic: 0.026212\n",
      "\n",
      "[Topic 2]\n",
      "high: 0.054280\n",
      "structure: 0.048515\n",
      "organic: 0.039508\n",
      "metal: 0.035060\n",
      "single: 0.028299\n",
      "using: 0.027342\n",
      "framework: 0.024956\n",
      "performance: 0.022302\n",
      "molecule: 0.021918\n",
      "crystal: 0.017482\n",
      "\n",
      "[Topic 3]\n",
      "organic: 0.063362\n",
      "metal: 0.061175\n",
      "assembly: 0.057230\n",
      "hydrogen: 0.044041\n",
      "frameworks: 0.039535\n",
      "self: 0.039458\n",
      "covalent: 0.024860\n",
      "evolution: 0.017076\n",
      "framework: 0.016176\n",
      "new: 0.015526\n",
      "\n",
      "[Topic 4]\n",
      "synthesis: 0.088919\n",
      "acid: 0.035682\n",
      "total: 0.027334\n",
      "oxidative: 0.021218\n",
      "biosynthesis: 0.017681\n",
      "temperature: 0.016766\n",
      "characterization: 0.016391\n",
      "dynamic: 0.016071\n",
      "peptide: 0.015821\n",
      "substrate: 0.014675\n",
      "\n",
      "[Topic 5]\n",
      "catalytic: 0.049506\n",
      "structural: 0.044886\n",
      "based: 0.042281\n",
      "cells: 0.033864\n",
      "bond: 0.031455\n",
      "electron: 0.031237\n",
      "metathesis: 0.030004\n",
      "anion: 0.024990\n",
      "reactivity: 0.024129\n",
      "living: 0.022514\n",
      "\n",
      "[Topic 6]\n",
      "oxidation: 0.069529\n",
      "responsive: 0.064461\n",
      "absorption: 0.037167\n",
      "situ: 0.035672\n",
      "ray: 0.035532\n",
      "template: 0.031300\n",
      "edge: 0.030333\n",
      "zinc: 0.030253\n",
      "solution: 0.029379\n",
      "temperature: 0.021415\n",
      "\n",
      "[Topic 7]\n",
      "reactions: 0.075561\n",
      "chemical: 0.063651\n",
      "electrochemical: 0.058867\n",
      "modulation: 0.039345\n",
      "cleavage: 0.034632\n",
      "functionalization: 0.034446\n",
      "ru: 0.030284\n",
      "building: 0.029641\n",
      "component: 0.026800\n",
      "blocks: 0.024081\n",
      "\n",
      "[Topic 8]\n",
      "alkenes: 0.053754\n",
      "reaction: 0.053373\n",
      "driven: 0.027310\n",
      "perovskite: 0.025312\n",
      "free: 0.022978\n",
      "unactivated: 0.022748\n",
      "solar: 0.021730\n",
      "cells: 0.019746\n",
      "application: 0.017921\n",
      "studies: 0.016172\n",
      "\n",
      "[Topic 9]\n",
      "transfer: 0.047278\n",
      "protein: 0.035475\n",
      "radical: 0.034704\n",
      "induced: 0.030405\n",
      "electron: 0.027228\n",
      "water: 0.026963\n",
      "redox: 0.020670\n",
      "dynamics: 0.020252\n",
      "ligand: 0.018615\n",
      "proton: 0.017229\n",
      "\n",
      "[Topic 10]\n",
      "imaging: 0.040989\n",
      "reveals: 0.029048\n",
      "binding: 0.027287\n",
      "activation: 0.026367\n",
      "iridium: 0.025477\n",
      "probe: 0.025130\n",
      "vivo: 0.025035\n",
      "ligands: 0.024817\n",
      "access: 0.021880\n",
      "live: 0.021129\n",
      "\n",
      "[Topic 11]\n",
      "molecular: 0.103067\n",
      "design: 0.037005\n",
      "correction: 0.025311\n",
      "highly: 0.023885\n",
      "chiral: 0.023367\n",
      "derived: 0.022504\n",
      "cages: 0.020039\n",
      "selectivity: 0.019483\n",
      "interactions: 0.018414\n",
      "guest: 0.018224\n",
      "\n",
      "[Topic 12]\n",
      "light: 0.040551\n",
      "oxygen: 0.038857\n",
      "surface: 0.037438\n",
      "mediated: 0.035487\n",
      "reduction: 0.031678\n",
      "carbon: 0.029600\n",
      "conversion: 0.021374\n",
      "nitrogen: 0.020873\n",
      "au: 0.019251\n",
      "thermal: 0.017329\n",
      "\n",
      "[Topic 13]\n",
      "formation: 0.045807\n",
      "selective: 0.044510\n",
      "co2: 0.040481\n",
      "functional: 0.025302\n",
      "site: 0.024783\n",
      "catalyst: 0.020546\n",
      "active: 0.020283\n",
      "highly: 0.017844\n",
      "synthesis: 0.017492\n",
      "direct: 0.016317\n",
      "\n",
      "[Topic 14]\n",
      "fluorescent: 0.093585\n",
      "proteins: 0.063997\n",
      "function: 0.047391\n",
      "controlling: 0.042308\n",
      "pair: 0.034120\n",
      "ice: 0.028859\n",
      "photochemistry: 0.027026\n",
      "structural: 0.020003\n",
      "histidine: 0.018825\n",
      "rotaxanes: 0.018656\n",
      "\n",
      "[Topic 15]\n",
      "complex: 0.063026\n",
      "ii: 0.056655\n",
      "magnetic: 0.036734\n",
      "platinum: 0.034054\n",
      "containing: 0.032849\n",
      "pyridine: 0.031586\n",
      "compounds: 0.024858\n",
      "method: 0.024653\n",
      "zn: 0.023732\n",
      "fe: 0.022289\n",
      "\n",
      "[Topic 16]\n",
      "dimensional: 0.060606\n",
      "single: 0.041699\n",
      "enhanced: 0.039647\n",
      "triplet: 0.028393\n",
      "copper: 0.026909\n",
      "nmr: 0.025913\n",
      "liquid: 0.025889\n",
      "spectroscopy: 0.025019\n",
      "long: 0.024562\n",
      "hydrogenase: 0.022087\n",
      "\n",
      "[Topic 17]\n",
      "state: 0.051903\n",
      "solid: 0.048354\n",
      "ion: 0.035996\n",
      "generation: 0.025434\n",
      "tunable: 0.023608\n",
      "iron: 0.021925\n",
      "chemistry: 0.021667\n",
      "li: 0.018491\n",
      "properties: 0.017938\n",
      "batteries: 0.017390\n",
      "\n",
      "[Topic 18]\n",
      "supramolecular: 0.105883\n",
      "dna: 0.080115\n",
      "carbon: 0.074437\n",
      "coordination: 0.065848\n",
      "control: 0.045898\n",
      "crystals: 0.030482\n",
      "chirality: 0.026783\n",
      "cage: 0.025523\n",
      "shaped: 0.018895\n",
      "distribution: 0.017691\n",
      "\n",
      "[Topic 19]\n",
      "nanoparticles: 0.052795\n",
      "stable: 0.028192\n",
      "gold: 0.028151\n",
      "switch: 0.026064\n",
      "single: 0.023051\n",
      "mesoporous: 0.021223\n",
      "solvent: 0.020999\n",
      "highly: 0.019687\n",
      "poly: 0.019046\n",
      "cationic: 0.018174\n",
      "\n"
     ]
    }
   ],
   "source": [
    "num_top_words = 10\n",
    "\n",
    "print('Displaying the top %d words per topic and their probabilities within the topic...' % num_top_words)\n",
    "print()\n",
    "\n",
    "import numpy as np\n",
    "for topic_idx in range(num_topics):\n",
    "    print('[Topic %d]' % topic_idx)\n",
    "    sort_indices = np.argsort(topic_word_distributions[topic_idx])[::-1]\n",
    "    for rank in range(num_top_words):\n",
    "        word_idx = sort_indices[rank]\n",
    "        print('%s: %f' % (tf_vectorizer.get_feature_names()[word_idx], topic_word_distributions[topic_idx, word_idx]))\n",
    "    print()\n"
   ]
  },
  {
   "cell_type": "markdown",
   "metadata": {},
   "source": [
    "# Another Way of doing LDA\n",
    "### Source: https://rstudio-pubs-static.s3.amazonaws.com/79360_850b2a69980c4488b1db95987a24867a.html"
   ]
  },
  {
   "cell_type": "code",
   "execution_count": 10,
   "metadata": {
    "scrolled": true
   },
   "outputs": [
    {
     "name": "stdout",
     "output_type": "stream",
     "text": [
      "[nltk_data] Downloading package stopwords to\n",
      "[nltk_data]     /Users/xinpengzheng/nltk_data...\n",
      "[nltk_data]   Package stopwords is already up-to-date!\n",
      "[nltk_data] Downloading package wordnet to\n",
      "[nltk_data]     /Users/xinpengzheng/nltk_data...\n",
      "[nltk_data]   Package wordnet is already up-to-date!\n"
     ]
    }
   ],
   "source": [
    "from nltk.corpus import stopwords \n",
    "nltk.download('stopwords')\n",
    "nltk.download('wordnet')\n",
    "from nltk.stem.wordnet import WordNetLemmatizer\n",
    "import string\n",
    "stop = set(stopwords.words('english'))\n",
    "exclude = set(string.punctuation) \n",
    "lemma = WordNetLemmatizer()\n",
    "def clean(doc):\n",
    "    stop_free = \" \".join([i for i in doc.lower().split() if i not in stop])\n",
    "    punc_free = ''.join(ch for ch in stop_free if ch not in exclude)\n",
    "    normalized = \" \".join(lemma.lemmatize(word) for word in punc_free.split())\n",
    "    return normalized\n",
    "\n",
    "doc_clean = [clean(entry).split() for entry in Total]\n",
    "\n",
    "#print(doc_clean)"
   ]
  },
  {
   "cell_type": "code",
   "execution_count": 14,
   "metadata": {},
   "outputs": [],
   "source": [
    "import gensim\n",
    "from gensim import corpora,models\n",
    "\n",
    "random.shuffle(Total)\n",
    "\n",
    "training = Total[:round(len(Total)*0.6)]\n",
    "test = Total[round(len(Total)*0.6):]\n",
    "\n",
    "doc_clean_train = [clean(entry).split() for entry in training]\n",
    "doc_clean_test = [clean(entry).split() for entry in test]\n",
    "# Creating the term dictionary of our courpus, where every unique term is assigned an index. \n",
    "dictionary_tr = corpora.Dictionary(doc_clean_train)\n",
    "dictionary_te = corpora.Dictionary(doc_clean_test)\n",
    "dictionary = corpora.Dictionary(doc_clean)\n",
    "# Converting list of documents (corpus) into Document Term Matrix using dictionary prepared above.\n",
    "doc_term_matrix_te = [dictionary_te.doc2bow(doc) for doc in doc_clean_test]\n",
    "doc_term_matrix_tr = [dictionary_te.doc2bow(doc) for doc in doc_clean_train]\n",
    "doc_term_matrix = [dictionary.doc2bow(doc) for doc in doc_clean]\n",
    "\n",
    "#mystring = mystring..decode(‘utf-8’)"
   ]
  },
  {
   "cell_type": "code",
   "execution_count": 38,
   "metadata": {},
   "outputs": [],
   "source": [
    "tfidf = models.TfidfModel(doc_term_matrix)\n",
    "corpus_tfidf = tfidf[doc_term_matrix_tr]\n",
    "corpus_tfidf_te = tfidf[doc_term_matrix_te]"
   ]
  },
  {
   "cell_type": "code",
   "execution_count": 39,
   "metadata": {},
   "outputs": [],
   "source": [
    "lda_model_tfidf = gensim.models.LdaMulticore(corpus_tfidf, num_topics=5, id2word=dictionary_tr, passes=2, workers=4)"
   ]
  },
  {
   "cell_type": "code",
   "execution_count": 40,
   "metadata": {},
   "outputs": [],
   "source": [
    "Lda = gensim.models.ldamodel.LdaModel\n",
    "ldamodel = Lda(doc_term_matrix_tr, num_topics=5, id2word = dictionary_tr, passes=50)\n"
   ]
  },
  {
   "cell_type": "code",
   "execution_count": 30,
   "metadata": {},
   "outputs": [
    {
     "name": "stdout",
     "output_type": "stream",
     "text": [
      "Topic: 1 \n",
      "Words: 0.007*\"noncanonical\" + 0.006*\"1000\" + 0.005*\"pyridine\" + 0.004*\"longchain\" + 0.003*\"ammonia\" + 0.003*\"general\" + 0.003*\"network\" + 0.003*\"adiabatic\" + 0.003*\"bisphosphonategenerated\" + 0.003*\"functionalization\"\n",
      "Topic: 2 \n",
      "Words: 0.004*\"noncanonical\" + 0.004*\"nglycans\" + 0.004*\"precursor\" + 0.004*\"orthogonal\" + 0.004*\"pyridine\" + 0.004*\"ligand\" + 0.004*\"haloazacyclizations\" + 0.003*\"reactivity\" + 0.003*\"backfolding\" + 0.003*\"electrostatic\"\n",
      "Topic: 3 \n",
      "Words: 0.007*\"noncanonical\" + 0.007*\"triggered\" + 0.007*\"bonding\" + 0.006*\"saccharide\" + 0.005*\"azobenzene\" + 0.004*\"secondary\" + 0.004*\"backfolding\" + 0.004*\"nglycans\" + 0.004*\"ammonia\" + 0.004*\"precursor\"\n",
      "Topic: 4 \n",
      "Words: 0.008*\"density\" + 0.008*\"noncanonical\" + 0.008*\"neurotransmission\" + 0.007*\"adduct\" + 0.005*\"oxidation\" + 0.005*\"factor\" + 0.004*\"conjugate\" + 0.004*\"nitrogen\" + 0.004*\"precursor\" + 0.004*\"cyclic\"\n",
      "Topic: 5 \n",
      "Words: 0.008*\"highly\" + 0.007*\"electron\" + 0.007*\"highsurfacearea\" + 0.006*\"conjugate\" + 0.005*\"backfolding\" + 0.005*\"thermal\" + 0.005*\"triggered\" + 0.004*\"intervention\" + 0.004*\"picomolar\" + 0.003*\"chemistry\"\n"
     ]
    }
   ],
   "source": [
    "for idx, topic in lda_model_tfidf.print_topics(-1):\n",
    "    print('Topic: {} \\nWords: {}'.format(idx+1, topic))"
   ]
  },
  {
   "cell_type": "code",
   "execution_count": 31,
   "metadata": {},
   "outputs": [
    {
     "data": {
      "text/plain": [
       "-11.375382223105813"
      ]
     },
     "execution_count": 31,
     "metadata": {},
     "output_type": "execute_result"
    }
   ],
   "source": [
    "lda_model_tfidf.log_perplexity(corpus_tfidf_te)"
   ]
  },
  {
   "cell_type": "code",
   "execution_count": 32,
   "metadata": {},
   "outputs": [
    {
     "data": {
      "text/plain": [
       "-9.980958695776469"
      ]
     },
     "execution_count": 32,
     "metadata": {},
     "output_type": "execute_result"
    }
   ],
   "source": [
    "ldamodel.log_perplexity(doc_term_matrix_te)"
   ]
  },
  {
   "cell_type": "code",
   "execution_count": 33,
   "metadata": {},
   "outputs": [
    {
     "data": {
      "text/html": [
       "\n",
       "<link rel=\"stylesheet\" type=\"text/css\" href=\"https://cdn.rawgit.com/bmabey/pyLDAvis/files/ldavis.v1.0.0.css\">\n",
       "\n",
       "\n",
       "<div id=\"ldavis_el960051121742568006303663267\"></div>\n",
       "<script type=\"text/javascript\">\n",
       "\n",
       "var ldavis_el960051121742568006303663267_data = {\"mdsDat\": {\"Freq\": [22.7119140625, 21.821868896484375, 21.39733123779297, 17.21662139892578, 16.852264404296875], \"cluster\": [1, 1, 1, 1, 1], \"topics\": [1, 2, 3, 4, 5], \"x\": [-0.005087424308561008, -0.004919037426864072, 0.04388349090435156, -0.025525929472468883, -0.008351099696457588], \"y\": [0.01862636303842025, -0.043445306869667875, 0.0035971882963043915, 0.005798081459112522, 0.015423674075830724]}, \"tinfo\": {\"Category\": [\"Default\", \"Default\", \"Default\", \"Default\", \"Default\", \"Default\", \"Default\", \"Default\", \"Default\", \"Default\", \"Default\", \"Default\", \"Default\", \"Default\", \"Default\", \"Default\", \"Default\", \"Default\", \"Default\", \"Default\", \"Default\", \"Default\", \"Default\", \"Default\", \"Default\", \"Default\", \"Default\", \"Default\", \"Default\", \"Default\", \"Topic1\", \"Topic1\", \"Topic1\", \"Topic1\", \"Topic1\", \"Topic1\", \"Topic1\", \"Topic1\", \"Topic1\", \"Topic1\", \"Topic1\", \"Topic1\", \"Topic1\", \"Topic1\", \"Topic1\", \"Topic1\", \"Topic1\", \"Topic1\", \"Topic1\", \"Topic1\", \"Topic1\", \"Topic1\", \"Topic1\", \"Topic1\", \"Topic1\", \"Topic1\", \"Topic1\", \"Topic1\", \"Topic1\", \"Topic1\", \"Topic1\", \"Topic1\", \"Topic1\", \"Topic1\", \"Topic1\", \"Topic1\", \"Topic1\", \"Topic1\", \"Topic1\", \"Topic1\", \"Topic1\", \"Topic1\", \"Topic1\", \"Topic1\", \"Topic1\", \"Topic1\", \"Topic1\", \"Topic1\", \"Topic1\", \"Topic1\", \"Topic1\", \"Topic1\", \"Topic1\", \"Topic1\", \"Topic1\", \"Topic1\", \"Topic2\", \"Topic2\", \"Topic2\", \"Topic2\", \"Topic2\", \"Topic2\", \"Topic2\", \"Topic2\", \"Topic2\", \"Topic2\", \"Topic2\", \"Topic2\", \"Topic2\", \"Topic2\", \"Topic2\", \"Topic2\", \"Topic2\", \"Topic2\", \"Topic2\", \"Topic2\", \"Topic2\", \"Topic2\", \"Topic2\", \"Topic2\", \"Topic2\", \"Topic2\", \"Topic2\", \"Topic2\", \"Topic2\", \"Topic2\", \"Topic2\", \"Topic2\", \"Topic2\", \"Topic2\", \"Topic2\", \"Topic2\", \"Topic2\", \"Topic2\", \"Topic2\", \"Topic2\", \"Topic2\", \"Topic2\", \"Topic2\", \"Topic2\", \"Topic2\", \"Topic2\", \"Topic2\", \"Topic2\", \"Topic2\", \"Topic2\", \"Topic2\", \"Topic2\", \"Topic2\", \"Topic2\", \"Topic2\", \"Topic2\", \"Topic2\", \"Topic3\", \"Topic3\", \"Topic3\", \"Topic3\", \"Topic3\", \"Topic3\", \"Topic3\", \"Topic3\", \"Topic3\", \"Topic3\", \"Topic3\", \"Topic3\", \"Topic3\", \"Topic3\", \"Topic3\", \"Topic3\", \"Topic3\", \"Topic3\", \"Topic3\", \"Topic3\", \"Topic3\", \"Topic3\", \"Topic3\", \"Topic3\", \"Topic3\", \"Topic3\", \"Topic3\", \"Topic3\", \"Topic3\", \"Topic3\", \"Topic3\", \"Topic3\", \"Topic3\", \"Topic3\", \"Topic3\", \"Topic3\", \"Topic3\", \"Topic3\", \"Topic3\", \"Topic3\", \"Topic3\", \"Topic3\", \"Topic3\", \"Topic3\", \"Topic3\", \"Topic3\", \"Topic3\", \"Topic3\", \"Topic3\", \"Topic3\", \"Topic3\", \"Topic3\", \"Topic3\", \"Topic3\", \"Topic3\", \"Topic3\", \"Topic4\", \"Topic4\", \"Topic4\", \"Topic4\", \"Topic4\", \"Topic4\", \"Topic4\", \"Topic4\", \"Topic4\", \"Topic4\", \"Topic4\", \"Topic4\", \"Topic4\", \"Topic4\", \"Topic4\", \"Topic4\", \"Topic4\", \"Topic4\", \"Topic4\", \"Topic4\", \"Topic4\", \"Topic4\", \"Topic4\", \"Topic4\", \"Topic4\", \"Topic4\", \"Topic4\", \"Topic4\", \"Topic4\", \"Topic4\", \"Topic4\", \"Topic4\", \"Topic4\", \"Topic4\", \"Topic4\", \"Topic4\", \"Topic4\", \"Topic4\", \"Topic4\", \"Topic4\", \"Topic4\", \"Topic4\", \"Topic4\", \"Topic4\", \"Topic4\", \"Topic4\", \"Topic4\", \"Topic4\", \"Topic4\", \"Topic4\", \"Topic4\", \"Topic4\", \"Topic4\", \"Topic4\", \"Topic5\", \"Topic5\", \"Topic5\", \"Topic5\", \"Topic5\", \"Topic5\", \"Topic5\", \"Topic5\", \"Topic5\", \"Topic5\", \"Topic5\", \"Topic5\", \"Topic5\", \"Topic5\", \"Topic5\", \"Topic5\", \"Topic5\", \"Topic5\", \"Topic5\", \"Topic5\", \"Topic5\", \"Topic5\", \"Topic5\", \"Topic5\", \"Topic5\", \"Topic5\", \"Topic5\", \"Topic5\", \"Topic5\", \"Topic5\", \"Topic5\", \"Topic5\", \"Topic5\", \"Topic5\", \"Topic5\", \"Topic5\", \"Topic5\", \"Topic5\", \"Topic5\", \"Topic5\", \"Topic5\", \"Topic5\", \"Topic5\", \"Topic5\", \"Topic5\", \"Topic5\", \"Topic5\", \"Topic5\", \"Topic5\", \"Topic5\", \"Topic5\", \"Topic5\", \"Topic5\", \"Topic5\", \"Topic5\", \"Topic5\", \"Topic5\", \"Topic5\", \"Topic5\", \"Topic5\"], \"Freq\": [4.0, 3.0, 3.0, 3.0, 4.0, 3.0, 1.0, 1.0, 2.0, 3.0, 2.0, 2.0, 1.0, 1.0, 1.0, 2.0, 1.0, 4.0, 3.0, 1.0, 1.0, 1.0, 3.0, 1.0, 2.0, 3.0, 4.0, 2.0, 1.0, 0.0, 1.189823031425476, 1.1418260335922241, 0.6546976566314697, 0.5653784871101379, 0.6523429155349731, 2.5570127964019775, 2.552802324295044, 0.5936892032623291, 0.453303724527359, 0.440669447183609, 0.5446064472198486, 0.4286976754665375, 0.7781295776367188, 0.3862503170967102, 0.37611111998558044, 0.35977527499198914, 0.39266282320022583, 0.40052810311317444, 0.45752769708633423, 1.288569450378418, 0.8219786286354065, 0.4316861629486084, 0.4009571075439453, 0.3160797655582428, 1.0704511404037476, 0.3056168258190155, 0.6674116253852844, 0.4197518229484558, 0.30114486813545227, 0.29880401492118835, 1.6959829330444336, 0.9188076257705688, 1.0033067464828491, 2.8482301235198975, 0.8492223620414734, 1.0093828439712524, 1.0619819164276123, 1.9091594219207764, 0.8802180886268616, 0.9308200478553772, 1.8316229581832886, 1.3776791095733643, 1.0245293378829956, 1.0443952083587646, 0.8454785346984863, 1.170648217201233, 1.5952444076538086, 1.0909736156463623, 0.8745730519294739, 1.1242396831512451, 0.9067807197570801, 0.79851895570755, 1.1810885667800903, 0.9445151090621948, 0.8814969062805176, 0.8554450869560242, 1.0366382598876953, 0.5635808706283569, 0.777066171169281, 0.6926131844520569, 0.4929037094116211, 2.167731523513794, 0.48357895016670227, 0.48321333527565, 0.4631519615650177, 0.4601902961730957, 0.5900848507881165, 0.4343259632587433, 0.433580607175827, 0.42581069469451904, 0.5144028663635254, 0.4729645550251007, 0.5720265507698059, 0.5780586004257202, 0.9279484152793884, 0.5900672078132629, 0.4325278401374817, 0.36525970697402954, 0.7170988917350769, 0.36196303367614746, 0.5203700661659241, 0.5206804871559143, 0.336157888174057, 0.4625035524368286, 0.5102406144142151, 0.5099277496337891, 0.6031383275985718, 0.7591991424560547, 1.7015812397003174, 1.9381526708602905, 2.2803032398223877, 1.3804118633270264, 0.8220720887184143, 1.087548851966858, 1.2492400407791138, 2.425400733947754, 0.5947696566581726, 0.8414105772972107, 0.6899462342262268, 1.2573436498641968, 1.239486813545227, 1.345940351486206, 1.141855001449585, 0.8105655908584595, 1.0451160669326782, 1.0470623970031738, 0.8656781911849976, 0.9111277461051941, 0.8022119402885437, 0.748366117477417, 0.9663336277008057, 0.7159882187843323, 0.6963624358177185, 0.7347337007522583, 0.6963152289390564, 1.1380845308303833, 0.5769386887550354, 0.6292600035667419, 0.5852285027503967, 0.47614482045173645, 0.5198178887367249, 0.5940237045288086, 0.4667242467403412, 0.8481646180152893, 0.9396040439605713, 2.570770740509033, 0.5540610551834106, 0.41776758432388306, 0.6548923850059509, 2.4619131088256836, 0.40854546427726746, 0.40598011016845703, 0.3995218575000763, 0.5805767774581909, 1.5263783931732178, 0.6224977374076843, 0.36264050006866455, 0.36076971888542175, 0.7272716760635376, 0.3565083146095276, 0.3547685146331787, 0.5290664434432983, 0.3387059271335602, 0.7142401933670044, 0.6591704487800598, 1.4799094200134277, 2.246889591217041, 0.6911290884017944, 1.3875718116760254, 1.1647284030914307, 1.1672852039337158, 0.8517429232597351, 2.5027008056640625, 0.9132376909255981, 1.398592472076416, 0.7590421438217163, 1.1761332750320435, 0.7212026715278625, 1.0019373893737793, 1.0564181804656982, 0.8541736602783203, 0.9072809815406799, 1.0883244276046753, 1.0439823865890503, 0.9055870771408081, 0.8686288595199585, 0.8699377179145813, 0.8183563947677612, 0.7289355397224426, 0.7847243547439575, 0.9416323304176331, 0.644096314907074, 0.4579492509365082, 0.6140768527984619, 0.4146384298801422, 0.3889434039592743, 0.3727824091911316, 0.3745357394218445, 0.6814852952957153, 0.35762858390808105, 0.3527987599372864, 0.3461909890174866, 0.3405648171901703, 0.335041344165802, 0.33065298199653625, 0.3503602147102356, 0.570104718208313, 0.3045026659965515, 0.2910286486148834, 0.2894521653652191, 0.2878767251968384, 0.36288005113601685, 0.3254862427711487, 0.7965539693832397, 0.9055957794189453, 0.7289798855781555, 0.5505797266960144, 0.24953395128250122, 0.34659260511398315, 0.9345085620880127, 0.9236329793930054, 0.5530182123184204, 0.6150316596031189, 0.4239441156387329, 0.42259952425956726, 0.9874178767204285, 0.9495770335197449, 0.9347937703132629, 0.7532358169555664, 0.7126514911651611, 0.7666845321655273, 0.4638567268848419, 1.0786504745483398, 0.8329595327377319, 0.6698001027107239, 0.6709792613983154, 0.5037195682525635, 0.48673534393310547, 0.7495580911636353, 0.5660020112991333, 0.46781548857688904, 0.4916609227657318, 0.4719836413860321, 0.5421133041381836, 0.34714004397392273, 0.3979686498641968, 0.6677308082580566, 0.38204386830329895, 0.8079667687416077, 0.4437441825866699, 0.7386623024940491, 0.3035535514354706, 0.6037331819534302, 0.2995775640010834, 0.28672659397125244, 0.5483683347702026, 0.2761561870574951, 0.26174458861351013, 0.25831353664398193, 0.3951399624347687, 0.25728514790534973, 0.25269392132759094, 0.2514297366142273, 0.251526415348053, 0.2513171136379242, 0.5842646956443787, 0.23863418400287628, 0.23683330416679382, 0.23597663640975952, 0.3349134027957916, 0.22789572179317474, 0.22396889328956604, 0.21974892914295197, 0.5346190333366394, 0.6488580107688904, 1.0339784622192383, 1.5367014408111572, 1.3741281032562256, 0.4035874605178833, 0.6467443704605103, 0.39235422015190125, 0.7026823163032532, 0.35148394107818604, 0.5001732110977173, 0.4353741705417633, 0.7603502869606018, 1.9148728847503662, 0.5103633403778076, 0.8667094707489014, 0.47695648670196533, 0.698373556137085, 0.5926575660705566, 0.5656458139419556, 0.5487213134765625, 0.597187876701355, 0.6757080554962158, 0.6384531259536743, 0.6632746458053589, 0.6541092395782471, 0.6370960474014282, 0.5801952481269836, 0.540322482585907, 0.5601351857185364], \"Term\": [\"density\", \"highsurfacearea\", \"bonding\", \"electron\", \"neurotransmission\", \"pyridine\", \"orthogonal\", \"chemistry\", \"ligand\", \"1000\", \"longchain\", \"oxidation\", \"essentially\", \"sensitivityenhanced\", \"discovery\", \"cyclic\", \"construction\", \"conjugate\", \"thermal\", \"general\", \"electricdriven\", \"reactivity\", \"azobenzene\", \"adiabatic\", \"picomolar\", \"nitrogen\", \"adduct\", \"factor\", \"metalfree\", \"strategically\", \"chemistry\", \"discovery\", \"thiocyanate\", \"crosslinking\", \"valence\", \"electron\", \"highsurfacearea\", \"ring\", \"accurate\", \"polymer\", \"electrocatalytic\", \"mesocrystals\", \"w32\\u2022\", \"cspbi2br\", \"ni3s2\", \"alloying\", \"axially\", \"phosphoric\", \"disulfides\", \"picomolar\", \"thioredoxin\", \"electrode\", \"identify\", \"deconvoluting\", \"construction\", \"use\", \"aureus\", \"conical\", \"\\u201ca\", \"multifunctional\", \"thermal\", \"posttranslational\", \"measurement\", \"highly\", \"surface\", \"relaxation\", \"gas\", \"conjugate\", \"form\", \"solid\", \"backfolding\", \"intervention\", \"molecular\", \"porosity\", \"protein\", \"monitoring\", \"triggered\", \"formal\", \"ligand\", \"density\", \"safe\", \"13dienes\", \"noncanonical\", \"proton\\u2013electron\", \"secondary\", \"saccharide\", \"electricdriven\", \"library\", \"delivery\", \"\\u201coxygenvacancymediated\", \"alloylike\", \"bonding\", \"speciation\", \"computational\", \"isomerization\", \"residual\", \"h2\", \"modulation\", \"polymyxin\", \"hkgreen4\", \"without\", \"alcohol\", \"morphology\", \"nucleophilicity\", \"halogen\", \"welding\", \"arylzincs\", \"treatment\", \"cu111\", \"mismatch\", \"determination\", \"turnon\", \"constitutional\", \"longsought\", \"bioimaging\", \"aiegenderived\", \"direct\", \"styrenyl\", \"azobenzene\", \"saccharide\", \"triggered\", \"secondary\", \"pyrrole\", \"cyclic\", \"ammonia\", \"noncanonical\", \"basecatalyzed\", \"diffusioncooperative\", \"tundrenone\", \"nglycans\", \"precursor\", \"backfolding\", \"pyridine\", \"u2ih7c80\", \"monitoring\", \"proton\\u2013electron\", \"zncn2\", \"interlocked\", \"molecular\", \"framework\", \"highly\", \"crosselectrophile\", \"effect\", \"ambiphilic\", \"affect\", \"essentially\", \"ocarboranes\", \"o2\", \"vivo\", \"payload\", \"switch\", \"orbital\", \"donor\", \"functionalized\", \"unique\", \"density\", \"glycopolymers\", \"freestanding\", \"metastable\", \"neurotransmission\", \"phenoxazines\", \"tryptophan\", \"pendant\", \"beneath\", \"oxidation\", \"carboxylated\", \"hydroniuminduced\", \"photoisomerization\", \"interfacial\", \"1hindoles\", \"packing\", \"sterically\", \"\\u03b4mno2\", \"geometry\", \"uptake\", \"factor\", \"adduct\", \"nuclear\", \"nitrogen\", \"production\", \"cyclic\", \"isolating\", \"noncanonical\", \"conductivity\", \"conjugate\", \"complex\", \"precursor\", \"liquid\", \"interlocked\", \"1000\", \"longchain\", \"formal\", \"highly\", \"triggered\", \"intervention\", \"monitoring\", \"saccharide\", \"proton\\u2013electron\", \"effect\", \"sensitivityenhanced\", \"orthogonal\", \"strategically\", \"assay\", \"residue\", \"threestep\", \"cobaltpolyoxometalates\", \"metal\\u2013semiquinoid\", \"boundary\", \"composite\", \"homogenous\", \"highpurity\", \"confined\", \"nucleophile\", \"phosphoroimidazolide\", \"fused\", \"fullerene\", \"bismuth\", \"efficiency\", \"microcapsules\", \"nucleus\", \"boosting\", \"hydroboration\", \"phosphine\\u2013cucatalyzed\", \"electrostatic\", \"reactivity\", \"correct\", \"polymeric\", \"biphilic\", \"visiblenearinfrared\", \"ligand\", \"haloazacyclizations\", \"transient\", \"gramscale\", \"2\", \"solution\", \"nglycans\", \"precursor\", \"pyridine\", \"safe\", \"functionalization\", \"interlocked\", \"metalfree\", \"noncanonical\", \"backfolding\", \"nitrogen\", \"thermal\", \"promote\", \"ceo2supported\", \"highly\", \"porosity\", \"nanotio2\", \"adduct\", \"trisubstituted\", \"sulfonamide\", \"record\", \"2d\", \"topological\", \"substituted\", \"general\", \"mimicking\", \"adiabatic\", \"photoelectrosynthesis\", \"clcec1\", \"producing\", \"amphiphile\", \"ether\", \"fully\", \"longlived\", \"ironii\", \"rotation\", \"reusable\", \"multistability\", \"spectroscopic\", \"lewis\", \"neutral\", \"photoreversible\", \"ancillary\", \"analog\", \"actinide\", \"diene\", \"basecopper\", \"characterization\", \"plasmon\", \"metalfree\", \"binding\", \"longchain\", \"1000\", \"pyridine\", \"area\", \"simultaneous\", \"synthase\", \"bisphosphonategenerated\", \"antibody\\u2013drug\", \"hydrogen\", \"platinum\", \"network\", \"noncanonical\", \"controlled\", \"ammonia\", \"retinoic\", \"functionalization\", \"construction\", \"cycloaddition\", \"hierarchy\", \"sn\", \"azobenzene\", \"bonding\", \"adduct\", \"saccharide\", \"conjugate\", \"nitrogen\", \"trisubstituted\", \"backfolding\"], \"Total\": [4.0, 3.0, 3.0, 3.0, 4.0, 3.0, 1.0, 1.0, 2.0, 3.0, 2.0, 2.0, 1.0, 1.0, 1.0, 2.0, 1.0, 4.0, 3.0, 1.0, 1.0, 1.0, 3.0, 1.0, 2.0, 3.0, 4.0, 2.0, 1.0, 0.0, 1.458520531654358, 1.553645133972168, 0.9221972823143005, 0.8330340385437012, 0.980378270149231, 3.884915351867676, 3.883600950241089, 0.9043654799461365, 0.721689760684967, 0.7082245349884033, 0.8807368874549866, 0.6957187652587891, 1.2912898063659668, 0.6531640291213989, 0.6431018710136414, 0.62782222032547, 0.6929289102554321, 0.7095134258270264, 0.8199764490127563, 2.339111328125, 1.4938173294067383, 0.7918422222137451, 0.740165114402771, 0.5836210250854492, 1.977623701095581, 0.5729171633720398, 1.2557706832885742, 0.7900801301002502, 0.5680191516876221, 0.565912663936615, 3.2705297470092773, 1.76936674118042, 2.003276824951172, 6.085721492767334, 1.6865113973617554, 2.043593168258667, 2.2390568256378174, 4.533825874328613, 1.8096023797988892, 1.9658325910568237, 4.956383228302002, 3.6902222633361816, 2.5089945793151855, 2.595111608505249, 1.9708960056304932, 3.3078041076660156, 5.72265100479126, 3.4037046432495117, 2.2680749893188477, 4.187607765197754, 2.738252639770508, 1.94834566116333, 9.102713584899902, 3.803666114807129, 3.1227023601531982, 4.586696624755859, 1.4943305253982544, 0.8327917456626892, 1.1651531457901, 1.0630724430084229, 0.7618136405944824, 3.356113910675049, 0.7527979612350464, 0.7527797222137451, 0.7322654724121094, 0.7291586995124817, 0.9404216408729553, 0.7029954791069031, 0.7023531794548035, 0.6965218186378479, 0.8485404253005981, 0.7889426946640015, 0.9649442434310913, 0.9759039282798767, 1.5777239799499512, 1.0059587955474854, 0.7406337857246399, 0.6339700222015381, 1.2491177320480347, 0.6313593983650208, 0.9101341366767883, 0.9341847896575928, 0.6053255796432495, 0.8344539403915405, 0.9310802817344666, 0.93204665184021, 1.1308609247207642, 1.465853214263916, 3.802462100982666, 4.586696624755859, 5.72265100479126, 3.1227023601531982, 1.6645004749298096, 2.6891794204711914, 3.2926554679870605, 9.102713584899902, 1.1303620338439941, 1.9175958633422852, 1.440733551979065, 3.9189624786376953, 3.9324512481689453, 4.956383228302002, 3.858989715576172, 2.0284082889556885, 3.3078041076660156, 3.803666114807129, 2.774735927581787, 3.3084194660186768, 2.5089945793151855, 2.068147659301758, 6.085721492767334, 2.1246864795684814, 2.2898929119110107, 1.0064191818237305, 0.9667242169380188, 1.6397744417190552, 0.8482326865196228, 0.9544392824172974, 0.8909109234809875, 0.7459010481834412, 0.8183289766311646, 0.9359415173530579, 0.736613392829895, 1.3395370244979858, 1.5230268239974976, 4.187607765197754, 0.9036132097244263, 0.6883162260055542, 1.082830786705017, 4.074629783630371, 0.6783010363578796, 0.675930380821228, 0.6694064736366272, 0.9983840584754944, 2.6330666542053223, 1.0786399841308594, 0.6323134899139404, 0.6301996111869812, 1.2756140232086182, 0.6265664100646973, 0.6242465972900391, 0.9457321763038635, 0.6082354187965393, 1.2839035987854004, 1.2037066221237183, 2.975471019744873, 4.818552017211914, 1.3018134832382202, 3.1420626640319824, 2.587587356567383, 2.6891794204711914, 1.802200198173523, 9.102713584899902, 2.196423053741455, 4.533825874328613, 1.6836799383163452, 3.9324512481689453, 1.5911372900009155, 3.3084194660186768, 3.9760587215423584, 2.567180871963501, 3.4037046432495117, 6.085721492767334, 5.72265100479126, 3.6902222633361816, 3.3078041076660156, 4.586696624755859, 3.803666114807129, 2.2898929119110107, 1.1182363033294678, 1.3493391275405884, 0.9479734301567078, 0.7357337474822998, 1.017726182937622, 0.6927452087402344, 0.6666246652603149, 0.6501805782318115, 0.6540440320968628, 1.199147343635559, 0.6349769830703735, 0.6302573680877686, 0.6236062049865723, 0.6191766262054443, 0.6123046875, 0.6080799698829651, 0.6453121900558472, 1.0531572103500366, 0.5816871523857117, 0.5683269500732422, 0.567300021648407, 0.5655122995376587, 0.7218935489654541, 0.6521613597869873, 1.626562476158142, 1.8576037883758545, 1.522619366645813, 1.1625752449035645, 0.5272916555404663, 0.7405354976654053, 2.2680749893188477, 2.317035675048828, 1.300542950630188, 1.5359429121017456, 0.9688548445701599, 0.9664510488510132, 3.9189624786376953, 3.9324512481689453, 3.858989715576172, 2.738252639770508, 2.515558958053589, 3.3084194660186768, 1.2176554203033447, 9.102713584899902, 4.956383228302002, 3.1420626640319824, 3.2705297470092773, 1.5788789987564087, 1.443138837814331, 6.085721492767334, 2.595111608505249, 1.3542746305465698, 4.818552017211914, 2.4456124305725098, 0.8233835697174072, 0.6264623403549194, 0.723395824432373, 1.2319738864898682, 0.7074347734451294, 1.5136399269104004, 0.8440742492675781, 1.4145171642303467, 0.5827324390411377, 1.1668686866760254, 0.5802112817764282, 0.5657011270523071, 1.0961990356445312, 0.5556282997131348, 0.5409841537475586, 0.53736412525177, 0.8225959539413452, 0.5359605550765991, 0.5318701267242432, 0.5303288698196411, 0.5305858850479126, 0.5306147336959839, 1.2612028121948242, 0.5174928307533264, 0.5155109763145447, 0.5155006051063538, 0.7409865856170654, 0.5069243311882019, 0.5027133226394653, 0.49868476390838623, 1.2176554203033447, 1.5566537380218506, 2.567180871963501, 3.9760587215423584, 3.858989715576172, 0.9547684192657471, 1.757308006286621, 0.9363434314727783, 1.9868547916412354, 0.8225178718566895, 1.3241119384765625, 1.101273536682129, 2.436965227127075, 9.102713584899902, 1.4389764070510864, 3.2926554679870605, 1.3054546117782593, 2.515558958053589, 1.977623701095581, 1.854789137840271, 1.8166900873184204, 2.1752309799194336, 3.802462100982666, 3.356113910675049, 4.818552017211914, 4.586696624755859, 4.533825874328613, 3.1420626640319824, 2.4456124305725098, 4.956383228302002], \"loglift\": [30.0, 29.0, 28.0, 27.0, 26.0, 25.0, 24.0, 23.0, 22.0, 21.0, 20.0, 19.0, 18.0, 17.0, 16.0, 15.0, 14.0, 13.0, 12.0, 11.0, 10.0, 9.0, 8.0, 7.0, 6.0, 5.0, 4.0, 3.0, 2.0, 1.0, 1.2786999940872192, 1.174299955368042, 1.1397000551223755, 1.0946999788284302, 1.0749000310897827, 1.0640000104904175, 1.0627000331878662, 1.061400055885315, 1.017199993133545, 1.0077999830245972, 1.0016000270843506, 0.9980999827384949, 0.9757999777793884, 0.9569000005722046, 0.945900022983551, 0.9254999756813049, 0.9143000245094299, 0.9104999899864197, 0.8988000154495239, 0.8859999775886536, 0.8848999738693237, 0.8755999803543091, 0.8693000078201294, 0.8690000176429749, 0.8684999942779541, 0.8539000153541565, 0.8501999974250793, 0.8497999906539917, 0.8476999998092651, 0.8435999751091003, 0.8256000280380249, 0.8270000219345093, 0.7907999753952026, 0.7229999899864197, 0.7961999773979187, 0.7768999934196472, 0.7364000082015991, 0.6173999905586243, 0.7616000175476074, 0.7347000241279602, 0.4867999851703644, 0.4970000088214874, 0.5866000056266785, 0.5720999836921692, 0.6359000205993652, 0.44359999895095825, 0.20489999651908875, 0.34450000524520874, 0.5292999744415283, 0.1673000007867813, 0.37709999084472656, 0.5903000235557556, -0.5598999857902527, 0.08919999748468399, 0.21739999949932098, -0.19699999690055847, 1.156599998474121, 1.1318000555038452, 1.1172000169754028, 1.0937999486923218, 1.086899995803833, 1.0851999521255493, 1.079699993133545, 1.0788999795913696, 1.0642000436782837, 1.062000036239624, 1.0562000274658203, 1.0406999588012695, 1.0398999452590942, 1.0302000045776367, 1.0217000246047974, 1.010599970817566, 0.9994000196456909, 0.9986000061035156, 0.9915000200271606, 0.9887999892234802, 0.9843999743461609, 0.9708999991416931, 0.9672999978065491, 0.9659000039100647, 0.9631999731063843, 0.9376999735832214, 0.9340999722480774, 0.9320999979972839, 0.920799970626831, 0.9190999865531921, 0.8937000036239624, 0.864300012588501, 0.7182000279426575, 0.6607999801635742, 0.6021000146865845, 0.7059000134468079, 0.8167999982833862, 0.6169000267982483, 0.5530999898910522, 0.1996999979019165, 0.8801000118255615, 0.6984999775886536, 0.7860000133514404, 0.3853999972343445, 0.3677000105381012, 0.21870000660419464, 0.304500013589859, 0.6050000190734863, 0.3700999915599823, 0.23229999840259552, 0.35749998688697815, 0.23270000517368317, 0.38199999928474426, 0.5056999921798706, -0.31790000200271606, 0.4345000088214874, 0.3319000005722046, 1.2273000478744507, 1.2137999534606934, 1.1766999959945679, 1.156499981880188, 1.1253000497817993, 1.1217000484466553, 1.093000054359436, 1.0880999565124512, 1.0872999429702759, 1.0856000185012817, 1.0849000215530396, 1.058899998664856, 1.0540000200271606, 1.0528000593185425, 1.0426000356674194, 1.0390000343322754, 1.038100004196167, 1.0348999500274658, 1.032099962234497, 1.0257999897003174, 0.9998000264167786, 0.9966999888420105, 0.9922000169754028, 0.9858999848365784, 0.9840999841690063, 0.9800000190734863, 0.9779999852180481, 0.9768000245094299, 0.9610999822616577, 0.9564999938011169, 0.9555000066757202, 0.9397000074386597, 0.843500018119812, 0.7789999842643738, 0.9086999893188477, 0.7246000170707703, 0.7437000274658203, 0.7073000073432922, 0.7924000024795532, 0.2506999969482422, 0.6643000245094299, 0.36579999327659607, 0.745199978351593, 0.33489999175071716, 0.7505999803543091, 0.3474000096321106, 0.21649999916553497, 0.4415000081062317, 0.21969999372959137, -0.1793999969959259, -0.15950000286102295, 0.13699999451637268, 0.20479999482631683, -0.12060000002384186, 0.005499999970197678, 0.39719998836517334, 1.4050999879837036, 1.3995000123977661, 1.3727999925613403, 1.2851999998092651, 1.25409996509552, 1.246000051498413, 1.2204999923706055, 1.2029999494552612, 1.201799988746643, 1.194200038909912, 1.1851999759674072, 1.1791000366210938, 1.170799970626831, 1.1614999771118164, 1.1562999486923218, 1.1500999927520752, 1.1484999656677246, 1.1455999612808228, 1.1119999885559082, 1.090000033378601, 1.086400032043457, 1.0841000080108643, 1.0714999437332153, 1.0642999410629272, 1.0454000234603882, 1.0407999753952026, 1.0227999687194824, 1.0118999481201172, 1.0111000537872314, 1.000100016593933, 0.8726000189781189, 0.8396000266075134, 0.9041000008583069, 0.8440999984741211, 0.9327999949455261, 0.9320999979972839, 0.3808000087738037, 0.3382999897003174, 0.34150001406669617, 0.46860000491142273, 0.49799999594688416, 0.2971000075340271, 0.7942000031471252, -0.3736000061035156, -0.02419999986886978, 0.21359999477863312, 0.1753000020980835, 0.6168000102043152, 0.6723999977111816, -0.33489999175071716, 0.23649999499320984, 0.6963000297546387, -0.5231000185012817, 0.11420000344514847, 1.3626999855041504, 1.1902999877929688, 1.1830999851226807, 1.1682000160217285, 1.1646000146865845, 1.152899980545044, 1.1376999616622925, 1.13100004196167, 1.128499984741211, 1.1217000484466553, 1.1196999549865723, 1.101099967956543, 1.0880000591278076, 1.0815999507904053, 1.0547000169754028, 1.048200011253357, 1.0475000143051147, 1.0468000173568726, 1.0364999771118164, 1.0343999862670898, 1.0342999696731567, 1.033400058746338, 1.011199951171875, 1.006600022315979, 1.0029000043869019, 0.9993000030517578, 0.9865999817848206, 0.9811999797821045, 0.9721999764442444, 0.9611999988555908, 0.9575999975204468, 0.9056000113487244, 0.8712999820709229, 0.8299999833106995, 0.7480999827384949, 0.9196000099182129, 0.7810999751091003, 0.9108999967575073, 0.7412999868392944, 0.9304999709129333, 0.8070999979972839, 0.8526999950408936, 0.6159999966621399, 0.22179999947547913, 0.7440999746322632, 0.44589999318122864, 0.7738000154495239, 0.4991999864578247, 0.5756999850273132, 0.5931000113487244, 0.5835000276565552, 0.4880000054836273, 0.05299999937415123, 0.12120000272989273, -0.20239999890327454, -0.16699999570846558, -0.18170000612735748, 0.09139999747276306, 0.27079999446868896, -0.39959999918937683], \"logprob\": [30.0, 29.0, 28.0, 27.0, 26.0, 25.0, 24.0, 23.0, 22.0, 21.0, 20.0, 19.0, 18.0, 17.0, 16.0, 15.0, 14.0, 13.0, 12.0, 11.0, 10.0, 9.0, 8.0, 7.0, 6.0, 5.0, 4.0, 3.0, 2.0, 1.0, -5.671599864959717, -5.712800025939941, -6.269000053405762, -6.4156999588012695, -6.272600173950195, -4.906599998474121, -4.908199787139893, -6.366799831390381, -6.636600017547607, -6.664899826049805, -6.453100204467773, -6.692399978637695, -6.09630012512207, -6.7967000007629395, -6.823299884796143, -6.867700099945068, -6.780200004577637, -6.76039981842041, -6.627299785614014, -5.591899871826172, -6.041399955749512, -6.685500144958496, -6.759300231933594, -6.997200012207031, -5.777299880981445, -7.030799865722656, -6.249800205230713, -6.713500022888184, -7.045599937438965, -7.053400039672852, -5.3171000480651855, -5.930099964141846, -5.842100143432617, -4.798699855804443, -6.008800029754639, -5.836100101470947, -5.785299777984619, -5.198699951171875, -5.9730000495910645, -5.917099952697754, -5.240200042724609, -5.525000095367432, -5.821199893951416, -5.802000045776367, -6.013299942016602, -5.68779993057251, -5.378399848937988, -5.758299827575684, -5.979400157928467, -5.728300094604492, -5.943299770355225, -6.070400238037109, -5.678999900817871, -5.902500152587891, -5.971499919891357, -6.001500129699707, -5.769400119781494, -6.378900051116943, -6.057700157165527, -6.172699928283691, -6.512899875640869, -5.031700134277344, -6.5320000648498535, -6.532700061798096, -6.575099945068359, -6.581500053405762, -6.332900047302246, -6.639400005340576, -6.64109992980957, -6.659200191497803, -6.470200061798096, -6.554200172424316, -6.363999843597412, -6.353499889373779, -5.880199909210205, -6.332900047302246, -6.643499851226807, -6.812600135803223, -6.138000011444092, -6.821599960327148, -6.458600044250488, -6.458000183105469, -6.895599842071533, -6.576499938964844, -6.478300094604492, -6.478899955749512, -6.310999870300293, -6.080900192260742, -5.273900032043457, -5.143700122833252, -4.981100082397461, -5.482999801635742, -6.001399993896484, -5.721499919891357, -5.582900047302246, -4.919400215148926, -6.324999809265137, -5.978099822998047, -6.176599979400635, -5.576399803161621, -5.590700149536133, -5.508299827575684, -5.672800064086914, -6.015399932861328, -5.761300086975098, -5.759399890899658, -5.949699878692627, -5.898499965667725, -6.0258002281188965, -6.095300197601318, -5.839700222015381, -6.139500141143799, -6.167300224304199, -6.093999862670898, -6.14769983291626, -5.656400203704834, -6.3358001708984375, -6.249000072479248, -6.321499824523926, -6.5278000831604, -6.440100193023682, -6.306600093841553, -6.547800064086914, -5.950500011444092, -5.848100185394287, -4.841599941253662, -6.376299858093262, -6.658599853515625, -6.209099769592285, -4.884799957275391, -6.6809000968933105, -6.68720006942749, -6.7032999992370605, -6.329500198364258, -5.3628997802734375, -6.259799957275391, -6.800099849700928, -6.805300235748291, -6.1041998863220215, -6.817200183868408, -6.8221001625061035, -6.422399997711182, -6.8684000968933105, -6.122300148010254, -6.202600002288818, -5.393799781799316, -4.976200103759766, -6.155200004577637, -5.458199977874756, -5.633299827575684, -5.631100177764893, -5.946300029754639, -4.8684000968933105, -5.876500129699707, -5.450300216674805, -6.061500072479248, -5.623499870300293, -6.112599849700928, -5.78380012512207, -5.730899810791016, -5.943399906158447, -5.8831000328063965, -5.701099872589111, -5.742700099945068, -5.885000228881836, -5.926599979400635, -5.925099849700928, -5.986199855804443, -6.1020002365112305, -5.810800075531006, -5.628499984741211, -6.008299827575684, -6.349400043487549, -6.056000232696533, -6.448699951171875, -6.512700080871582, -6.555200099945068, -6.55049991607666, -5.951900005340576, -6.59660005569458, -6.610199928283691, -6.629199981689453, -6.645500183105469, -6.661900043487549, -6.675099849700928, -6.617199897766113, -6.130300045013428, -6.757500171661377, -6.802700042724609, -6.808199882507324, -6.813600063323975, -6.582099914550781, -6.690800189971924, -5.795899868011475, -5.667600154876709, -5.884500026702881, -6.165200233459473, -6.956600189208984, -6.627999782562256, -5.636099815368652, -5.647799968719482, -6.160799980163574, -6.054500102996826, -6.426499843597412, -6.429699897766113, -5.581099987030029, -5.620100021362305, -5.635799884796143, -5.851799964904785, -5.907199859619141, -5.834099769592285, -6.336599826812744, -5.492700099945068, -5.751200199127197, -5.969200134277344, -5.967400074005127, -6.2540998458862305, -6.288400173187256, -5.8566999435424805, -6.137499809265137, -6.328100204467773, -6.27839994430542, -6.319200038909912, -6.159299850463867, -6.605000019073486, -6.468400001525879, -5.950900077819824, -6.509200096130371, -5.760200023651123, -6.359499931335449, -5.849899768829346, -6.739200115203857, -6.051599979400635, -6.752399921417236, -6.796199798583984, -6.147799968719482, -6.833799839019775, -6.887400150299072, -6.900599956512451, -6.475500106811523, -6.904600143432617, -6.922599792480469, -6.927599906921387, -6.927199840545654, -6.927999973297119, -6.084400177001953, -6.979800224304199, -6.987400054931641, -6.991000175476074, -6.640900135040283, -7.025899887084961, -7.0432000160217285, -7.062300205230713, -6.1732001304626465, -5.979499816894531, -5.513599872589111, -5.117400169372559, -5.2291998863220215, -6.454400062561035, -5.982800006866455, -6.482600212097168, -5.899799823760986, -6.592599868774414, -6.239799976348877, -6.378499984741211, -5.821000099182129, -4.897299766540527, -6.219600200653076, -5.690100193023682, -6.287300109863281, -5.906000137329102, -6.070099830627441, -6.116799831390381, -6.147200107574463, -6.0625, -5.939000129699707, -5.995699882507324, -5.957600116729736, -5.971499919891357, -5.997799873352051, -6.091400146484375, -6.162600040435791, -6.1265997886657715]}, \"token.table\": {\"Topic\": [1, 3, 5, 1, 3, 1, 2, 3, 5, 5, 3, 2, 3, 1, 2, 5, 1, 1, 2, 3, 5, 1, 2, 4, 5, 2, 3, 5, 2, 4, 1, 3, 5, 2, 5, 3, 1, 5, 2, 3, 4, 3, 1, 3, 5, 1, 5, 5, 4, 1, 2, 1, 2, 2, 3, 5, 2, 1, 3, 2, 2, 2, 1, 2, 3, 2, 1, 1, 5, 4, 3, 5, 1, 2, 3, 1, 1, 2, 3, 1, 2, 3, 4, 5, 3, 1, 5, 3, 3, 4, 2, 3, 4, 2, 3, 5, 1, 2, 3, 4, 1, 3, 5, 3, 2, 3, 4, 1, 2, 3, 2, 3, 2, 1, 4, 3, 3, 5, 1, 3, 5, 3, 1, 2, 3, 1, 2, 3, 2, 2, 3, 5, 1, 2, 3, 1, 2, 3, 4, 3, 4, 5, 1, 2, 3, 4, 5, 3, 2, 3, 3, 3, 4, 3, 5, 1, 4, 1, 4, 1, 2, 3, 4, 1, 2, 3, 2, 4, 1, 1, 2, 3, 5, 2, 4, 5, 2, 1, 4, 1, 4, 1, 1, 2, 3, 5, 1, 4, 1, 2, 4, 3, 5, 1, 3, 5, 1, 3, 4, 2, 5, 1, 3, 1, 4, 1, 1, 5, 2, 4, 1, 2, 3, 1, 3, 5, 2, 2, 2, 3, 3, 3, 1, 3, 1, 2, 2, 1, 2, 3, 2], \"Freq\": [0.2515053451061249, 0.2515053451061249, 0.5030106902122498, 0.5132559537887573, 0.5132559537887573, 0.20753122866153717, 0.20753122866153717, 0.41506245732307434, 0.20753122866153717, 0.7069550156593323, 1.0344212055206299, 1.0729076862335205, 0.9936217665672302, 0.30370622873306274, 0.30370622873306274, 0.30370622873306274, 0.7963237166404724, 0.26298749446868896, 0.5259749889373779, 0.26298749446868896, 0.26298749446868896, 0.40352004766464233, 0.20176002383232117, 0.20176002383232117, 0.20176002383232117, 0.8846723437309265, 1.001618504524231, 0.6424036026000977, 1.0740212202072144, 0.9495258331298828, 0.5033080577850342, 0.5033080577850342, 0.5033080577850342, 0.595927357673645, 0.2979636788368225, 0.9270933866500854, 0.6856262683868408, 0.8569944500923157, 0.59393709897995, 0.59393709897995, 0.8339259028434753, 0.4552856981754303, 0.44112855195999146, 0.22056427597999573, 0.22056427597999573, 0.5056573748588562, 0.5056573748588562, 0.6949384212493896, 0.656762957572937, 0.47065767645835876, 0.47065767645835876, 1.2004311084747314, 0.8005650639533997, 0.37186065316200256, 0.37186065316200256, 0.5391448140144348, 0.8582562804222107, 0.2387998253107071, 0.7163994908332825, 1.0987391471862793, 0.5214863419532776, 0.8842820525169373, 0.6436476111412048, 0.4367016553878784, 0.4367016553878784, 0.6691960096359253, 1.1354129314422607, 0.7722175717353821, 0.2574058771133423, 0.6147934794425964, 0.6098399758338928, 0.9122430682182312, 0.33608123660087585, 0.33608123660087585, 0.33608123660087585, 0.5526075959205627, 0.2937975227832794, 0.2937975227832794, 0.2937975227832794, 0.48352447152137756, 0.48352447152137756, 0.39752596616744995, 0.39752596616744995, 0.39752596616744995, 0.7465265989303589, 0.44661661982536316, 0.66065913438797, 0.7788746953010559, 1.10666823387146, 0.6510658860206604, 1.0633528232574463, 0.4315859377384186, 0.4315859377384186, 0.6338244080543518, 0.5504516363143921, 0.5504516363143921, 0.4929571747779846, 0.16431905329227448, 0.16431905329227448, 0.16431905329227448, 0.7724789381027222, 0.2574929893016815, 0.7552231550216675, 0.7839362025260925, 0.3022591471672058, 0.3022591471672058, 0.3022591471672058, 0.2709863781929016, 0.2709863781929016, 0.2709863781929016, 0.5548773407936096, 0.5548773407936096, 1.2007803916931152, 0.4409025311470032, 0.4409025311470032, 0.6284812688827515, 0.3895323574542999, 0.3895323574542999, 0.4991821348667145, 0.4991821348667145, 0.8212503790855408, 0.9235053062438965, 0.39856603741645813, 0.39856603741645813, 0.39856603741645813, 0.302315354347229, 0.302315354347229, 0.302315354347229, 1.0363292694091797, 0.41034644842147827, 0.41034644842147827, 0.41034644842147827, 0.24542106688022614, 0.24542106688022614, 0.49084213376045227, 0.2551695704460144, 0.2551695704460144, 0.2551695704460144, 0.2551695704460144, 0.3182622790336609, 0.3182622790336609, 0.3182622790336609, 0.10985735058784485, 0.2197147011756897, 0.32957205176353455, 0.10985735058784485, 0.2197147011756897, 0.7681592106819153, 1.0246909856796265, 1.047735571861267, 1.1789218187332153, 1.0684428215026855, 0.7411035299301147, 0.7595705986022949, 0.7928938865661621, 0.4275127947330475, 0.8601593971252441, 0.3853398859500885, 0.3853398859500885, 0.5651739835739136, 0.2542943060398102, 0.2542943060398102, 0.2542943060398102, 0.38646039366722107, 0.38646039366722107, 0.38646039366722107, 0.633360743522644, 0.633360743522644, 0.5073834657669067, 0.26290425658226013, 0.26290425658226013, 0.26290425658226013, 0.26290425658226013, 0.2591351866722107, 0.2591351866722107, 0.2591351866722107, 0.6007808446884155, 0.5383279323577881, 0.5383279323577881, 0.48933419585227966, 0.9825825691223145, 1.1057476997375488, 0.21802182495594025, 0.4360436499118805, 0.21802182495594025, 0.21802182495594025, 0.3651964068412781, 0.3651964068412781, 0.3202354609966278, 0.3202354609966278, 0.894265353679657, 0.5690522193908691, 0.5690522193908691, 0.45972129702568054, 0.45972129702568054, 0.45972129702568054, 0.5086902976036072, 1.0573818683624268, 1.0548819303512573, 0.6821965575218201, 1.2145007848739624, 0.5929399728775024, 1.222002387046814, 0.6115217208862305, 0.30576086044311523, 1.0843666791915894, 0.669425904750824, 0.8117055296897888, 0.7689096331596375, 0.7689096331596375, 0.34948837757110596, 0.34948837757110596, 0.17474418878555298, 0.4088955223560333, 0.4088955223560333, 0.4088955223560333, 0.6940908432006836, 1.0704519748687744, 0.492997407913208, 0.492997407913208, 0.6565872430801392, 0.8307672142982483, 1.0200144052505493, 1.1224466562271118, 0.7744194865226746, 0.9940764904022217, 1.1784942150115967, 0.3603946566581726, 0.3603946566581726, 0.3603946566581726, 0.9406696557998657], \"Term\": [\"1000\", \"1000\", \"1000\", \"13dienes\", \"13dienes\", \"adduct\", \"adduct\", \"adduct\", \"adduct\", \"adiabatic\", \"affect\", \"aiegenderived\", \"ambiphilic\", \"ammonia\", \"ammonia\", \"ammonia\", \"aureus\", \"azobenzene\", \"azobenzene\", \"azobenzene\", \"azobenzene\", \"backfolding\", \"backfolding\", \"backfolding\", \"backfolding\", \"basecatalyzed\", \"beneath\", \"binding\", \"bioimaging\", \"bismuth\", \"bisphosphonategenerated\", \"bisphosphonategenerated\", \"bisphosphonategenerated\", \"bonding\", \"bonding\", \"carboxylated\", \"chemistry\", \"clcec1\", \"complex\", \"complex\", \"composite\", \"conductivity\", \"conjugate\", \"conjugate\", \"conjugate\", \"construction\", \"construction\", \"controlled\", \"correct\", \"crosselectrophile\", \"crosselectrophile\", \"crosslinking\", \"cu111\", \"cyclic\", \"cyclic\", \"cycloaddition\", \"delivery\", \"density\", \"density\", \"determination\", \"diffusioncooperative\", \"direct\", \"discovery\", \"effect\", \"effect\", \"electricdriven\", \"electrocatalytic\", \"electron\", \"electron\", \"electrostatic\", \"essentially\", \"ether\", \"factor\", \"factor\", \"factor\", \"form\", \"formal\", \"formal\", \"formal\", \"framework\", \"framework\", \"functionalization\", \"functionalization\", \"functionalization\", \"functionalized\", \"gas\", \"general\", \"geometry\", \"glycopolymers\", \"gramscale\", \"h2\", \"haloazacyclizations\", \"haloazacyclizations\", \"halogen\", \"hierarchy\", \"hierarchy\", \"highly\", \"highly\", \"highly\", \"highly\", \"highsurfacearea\", \"highsurfacearea\", \"hydrogen\", \"interfacial\", \"interlocked\", \"interlocked\", \"interlocked\", \"intervention\", \"intervention\", \"intervention\", \"isolating\", \"isolating\", \"library\", \"ligand\", \"ligand\", \"liquid\", \"longchain\", \"longchain\", \"measurement\", \"measurement\", \"metalfree\", \"metastable\", \"molecular\", \"molecular\", \"molecular\", \"monitoring\", \"monitoring\", \"monitoring\", \"morphology\", \"network\", \"network\", \"network\", \"neurotransmission\", \"neurotransmission\", \"neurotransmission\", \"nglycans\", \"nglycans\", \"nglycans\", \"nglycans\", \"nitrogen\", \"nitrogen\", \"nitrogen\", \"noncanonical\", \"noncanonical\", \"noncanonical\", \"noncanonical\", \"noncanonical\", \"nuclear\", \"nucleophilicity\", \"o2\", \"ocarboranes\", \"orbital\", \"orthogonal\", \"oxidation\", \"photoreversible\", \"picomolar\", \"polymeric\", \"porosity\", \"porosity\", \"posttranslational\", \"precursor\", \"precursor\", \"precursor\", \"production\", \"production\", \"production\", \"promote\", \"promote\", \"protein\", \"proton\\u2013electron\", \"proton\\u2013electron\", \"proton\\u2013electron\", \"proton\\u2013electron\", \"pyridine\", \"pyridine\", \"pyridine\", \"pyrrole\", \"reactivity\", \"reactivity\", \"relaxation\", \"residue\", \"ring\", \"saccharide\", \"saccharide\", \"saccharide\", \"saccharide\", \"safe\", \"safe\", \"secondary\", \"secondary\", \"sensitivityenhanced\", \"simultaneous\", \"simultaneous\", \"sn\", \"sn\", \"sn\", \"solid\", \"sterically\", \"strategically\", \"styrenyl\", \"sulfonamide\", \"surface\", \"switch\", \"thermal\", \"thermal\", \"thiocyanate\", \"thioredoxin\", \"topological\", \"transient\", \"transient\", \"triggered\", \"triggered\", \"triggered\", \"trisubstituted\", \"trisubstituted\", \"trisubstituted\", \"tundrenone\", \"turnon\", \"u2ih7c80\", \"u2ih7c80\", \"unique\", \"uptake\", \"valence\", \"vivo\", \"w32\\u2022\", \"welding\", \"without\", \"zncn2\", \"zncn2\", \"zncn2\", \"\\u201coxygenvacancymediated\"]}, \"R\": 30, \"lambda.step\": 0.01, \"plot.opts\": {\"xlab\": \"PC1\", \"ylab\": \"PC2\"}, \"topic.order\": [5, 3, 4, 2, 1]};\n",
       "\n",
       "function LDAvis_load_lib(url, callback){\n",
       "  var s = document.createElement('script');\n",
       "  s.src = url;\n",
       "  s.async = true;\n",
       "  s.onreadystatechange = s.onload = callback;\n",
       "  s.onerror = function(){console.warn(\"failed to load library \" + url);};\n",
       "  document.getElementsByTagName(\"head\")[0].appendChild(s);\n",
       "}\n",
       "\n",
       "if(typeof(LDAvis) !== \"undefined\"){\n",
       "   // already loaded: just create the visualization\n",
       "   !function(LDAvis){\n",
       "       new LDAvis(\"#\" + \"ldavis_el960051121742568006303663267\", ldavis_el960051121742568006303663267_data);\n",
       "   }(LDAvis);\n",
       "}else if(typeof define === \"function\" && define.amd){\n",
       "   // require.js is available: use it to load d3/LDAvis\n",
       "   require.config({paths: {d3: \"https://cdnjs.cloudflare.com/ajax/libs/d3/3.5.5/d3.min\"}});\n",
       "   require([\"d3\"], function(d3){\n",
       "      window.d3 = d3;\n",
       "      LDAvis_load_lib(\"https://cdn.rawgit.com/bmabey/pyLDAvis/files/ldavis.v1.0.0.js\", function(){\n",
       "        new LDAvis(\"#\" + \"ldavis_el960051121742568006303663267\", ldavis_el960051121742568006303663267_data);\n",
       "      });\n",
       "    });\n",
       "}else{\n",
       "    // require.js not available: dynamically load d3 & LDAvis\n",
       "    LDAvis_load_lib(\"https://cdnjs.cloudflare.com/ajax/libs/d3/3.5.5/d3.min.js\", function(){\n",
       "         LDAvis_load_lib(\"https://cdn.rawgit.com/bmabey/pyLDAvis/files/ldavis.v1.0.0.js\", function(){\n",
       "                 new LDAvis(\"#\" + \"ldavis_el960051121742568006303663267\", ldavis_el960051121742568006303663267_data);\n",
       "            })\n",
       "         });\n",
       "}\n",
       "</script>"
      ],
      "text/plain": [
       "PreparedData(topic_coordinates=            Freq  cluster  topics         x         y\n",
       "topic                                                \n",
       "4      22.711914        1       1 -0.005087  0.018626\n",
       "2      21.821869        1       2 -0.004919 -0.043445\n",
       "3      21.397331        1       3  0.043883  0.003597\n",
       "1      17.216621        1       4 -0.025526  0.005798\n",
       "0      16.852264        1       5 -0.008351  0.015424, topic_info=     Category      Freq                     Term     Total  loglift  logprob\n",
       "term                                                                        \n",
       "0     Default  4.000000                  density  4.000000  30.0000  30.0000\n",
       "401   Default  3.000000          highsurfacearea  3.000000  29.0000  29.0000\n",
       "277   Default  3.000000                  bonding  3.000000  28.0000  28.0000\n",
       "659   Default  3.000000                 electron  3.000000  27.0000  27.0000\n",
       "78    Default  4.000000        neurotransmission  4.000000  26.0000  26.0000\n",
       "185   Default  3.000000                 pyridine  3.000000  25.0000  25.0000\n",
       "1522  Default  1.000000               orthogonal  1.000000  24.0000  24.0000\n",
       "487   Default  1.000000                chemistry  1.000000  23.0000  23.0000\n",
       "76    Default  2.000000                   ligand  2.000000  22.0000  22.0000\n",
       "225   Default  3.000000                     1000  3.000000  21.0000  21.0000\n",
       "498   Default  2.000000                longchain  2.000000  20.0000  20.0000\n",
       "20    Default  2.000000                oxidation  2.000000  19.0000  19.0000\n",
       "508   Default  1.000000              essentially  1.000000  18.0000  18.0000\n",
       "1517  Default  1.000000      sensitivityenhanced  1.000000  17.0000  17.0000\n",
       "1210  Default  1.000000                discovery  1.000000  16.0000  16.0000\n",
       "67    Default  2.000000                   cyclic  2.000000  15.0000  15.0000\n",
       "59    Default  1.000000             construction  1.000000  14.0000  14.0000\n",
       "631   Default  4.000000                conjugate  4.000000  13.0000  13.0000\n",
       "409   Default  3.000000                  thermal  3.000000  12.0000  12.0000\n",
       "344   Default  1.000000                  general  1.000000  11.0000  11.0000\n",
       "1032  Default  1.000000           electricdriven  1.000000  10.0000  10.0000\n",
       "153   Default  1.000000               reactivity  1.000000   9.0000   9.0000\n",
       "429   Default  3.000000               azobenzene  3.000000   8.0000   8.0000\n",
       "422   Default  1.000000                adiabatic  1.000000   7.0000   7.0000\n",
       "461   Default  2.000000                picomolar  2.000000   6.0000   6.0000\n",
       "536   Default  3.000000                 nitrogen  3.000000   5.0000   5.0000\n",
       "36    Default  4.000000                   adduct  4.000000   4.0000   4.0000\n",
       "205   Default  2.000000                   factor  2.000000   3.0000   3.0000\n",
       "624   Default  1.000000                metalfree  1.000000   2.0000   2.0000\n",
       "812   Default  0.000000            strategically  0.000000   1.0000   1.0000\n",
       "...       ...       ...                      ...       ...      ...      ...\n",
       "624    Topic5  0.534619                metalfree  1.217655   0.9576  -6.1732\n",
       "156    Topic5  0.648858                  binding  1.556654   0.9056  -5.9795\n",
       "498    Topic5  1.033978                longchain  2.567181   0.8713  -5.5136\n",
       "225    Topic5  1.536701                     1000  3.976059   0.8300  -5.1174\n",
       "185    Topic5  1.374128                 pyridine  3.858990   0.7481  -5.2292\n",
       "2176   Topic5  0.403587                     area  0.954768   0.9196  -6.4544\n",
       "195    Topic5  0.646744             simultaneous  1.757308   0.7811  -5.9828\n",
       "442    Topic5  0.392354                 synthase  0.936343   0.9109  -6.4826\n",
       "686    Topic5  0.702682  bisphosphonategenerated  1.986855   0.7413  -5.8998\n",
       "1018   Topic5  0.351484            antibody–drug  0.822518   0.9305  -6.5926\n",
       "264    Topic5  0.500173                 hydrogen  1.324112   0.8071  -6.2398\n",
       "537    Topic5  0.435374                 platinum  1.101274   0.8527  -6.3785\n",
       "337    Topic5  0.760350                  network  2.436965   0.6160  -5.8210\n",
       "297    Topic5  1.914873             noncanonical  9.102714   0.2218  -4.8973\n",
       "29     Topic5  0.510363               controlled  1.438976   0.7441  -6.2196\n",
       "28     Topic5  0.866709                  ammonia  3.292655   0.4459  -5.6901\n",
       "470    Topic5  0.476956                 retinoic  1.305455   0.7738  -6.2873\n",
       "524    Topic5  0.698374        functionalization  2.515559   0.4992  -5.9060\n",
       "59     Topic5  0.592658             construction  1.977624   0.5757  -6.0701\n",
       "412    Topic5  0.565646            cycloaddition  1.854789   0.5931  -6.1168\n",
       "1185   Topic5  0.548721                hierarchy  1.816690   0.5835  -6.1472\n",
       "386    Topic5  0.597188                       sn  2.175231   0.4880  -6.0625\n",
       "429    Topic5  0.675708               azobenzene  3.802462   0.0530  -5.9390\n",
       "277    Topic5  0.638453                  bonding  3.356114   0.1212  -5.9957\n",
       "36     Topic5  0.663275                   adduct  4.818552  -0.2024  -5.9576\n",
       "107    Topic5  0.654109               saccharide  4.586697  -0.1670  -5.9715\n",
       "631    Topic5  0.637096                conjugate  4.533826  -0.1817  -5.9978\n",
       "536    Topic5  0.580195                 nitrogen  3.142063   0.0914  -6.0914\n",
       "707    Topic5  0.540322           trisubstituted  2.445612   0.2708  -6.1626\n",
       "457    Topic5  0.560135              backfolding  4.956383  -0.3996  -6.1266\n",
       "\n",
       "[313 rows x 6 columns], token_table=      Topic      Freq                    Term\n",
       "term                                         \n",
       "225       1  0.251505                    1000\n",
       "225       3  0.251505                    1000\n",
       "225       5  0.503011                    1000\n",
       "545       1  0.513256                13dienes\n",
       "545       3  0.513256                13dienes\n",
       "36        1  0.207531                  adduct\n",
       "36        2  0.207531                  adduct\n",
       "36        3  0.415062                  adduct\n",
       "36        5  0.207531                  adduct\n",
       "422       5  0.706955               adiabatic\n",
       "943       3  1.034421                  affect\n",
       "1002      2  1.072908           aiegenderived\n",
       "1659      3  0.993622              ambiphilic\n",
       "28        1  0.303706                 ammonia\n",
       "28        2  0.303706                 ammonia\n",
       "28        5  0.303706                 ammonia\n",
       "434       1  0.796324                  aureus\n",
       "429       1  0.262987              azobenzene\n",
       "429       2  0.525975              azobenzene\n",
       "429       3  0.262987              azobenzene\n",
       "429       5  0.262987              azobenzene\n",
       "457       1  0.403520             backfolding\n",
       "457       2  0.201760             backfolding\n",
       "457       4  0.201760             backfolding\n",
       "457       5  0.201760             backfolding\n",
       "1773      2  0.884672           basecatalyzed\n",
       "1804      3  1.001619                 beneath\n",
       "156       5  0.642404                 binding\n",
       "1003      2  1.074021              bioimaging\n",
       "638       4  0.949526                 bismuth\n",
       "...     ...       ...                     ...\n",
       "491       1  0.592940                 surface\n",
       "254       3  1.222002                  switch\n",
       "409       1  0.611522                 thermal\n",
       "409       4  0.305761                 thermal\n",
       "510       1  1.084367             thiocyanate\n",
       "358       1  0.669426             thioredoxin\n",
       "1256      5  0.811706             topological\n",
       "15        2  0.768910               transient\n",
       "15        4  0.768910               transient\n",
       "16        1  0.349488               triggered\n",
       "16        2  0.349488               triggered\n",
       "16        3  0.174744               triggered\n",
       "707       1  0.408896          trisubstituted\n",
       "707       3  0.408896          trisubstituted\n",
       "707       5  0.408896          trisubstituted\n",
       "1171      2  0.694091              tundrenone\n",
       "109       2  1.070452                  turnon\n",
       "578       2  0.492997                u2ih7c80\n",
       "578       3  0.492997                u2ih7c80\n",
       "941       3  0.656587                  unique\n",
       "35        3  0.830767                  uptake\n",
       "1231      1  1.020014                 valence\n",
       "199       3  1.122447                    vivo\n",
       "667       1  0.774419                    w32•\n",
       "874       2  0.994076                 welding\n",
       "186       2  1.178494                 without\n",
       "269       1  0.360395                   zncn2\n",
       "269       2  0.360395                   zncn2\n",
       "269       3  0.360395                   zncn2\n",
       "1480      2  0.940670  “oxygenvacancymediated\n",
       "\n",
       "[231 rows x 3 columns], R=30, lambda_step=0.01, plot_opts={'xlab': 'PC1', 'ylab': 'PC2'}, topic_order=[5, 3, 4, 2, 1])"
      ]
     },
     "execution_count": 33,
     "metadata": {},
     "output_type": "execute_result"
    }
   ],
   "source": [
    "#Dynamic visualization of model results \n",
    "pyLDAvis.enable_notebook()\n",
    "vis = pyLDAvis.gensim.prepare(lda_model_tfidf, corpus_tfidf, dictionary_tr)\n",
    "vis"
   ]
  },
  {
   "cell_type": "code",
   "execution_count": 34,
   "metadata": {},
   "outputs": [],
   "source": [
    "##pick optimal number of topics \n",
    "s = []\n",
    "for i in range(1,40):\n",
    "    lda_model_tfidf = gensim.models.LdaMulticore(corpus_tfidf, num_topics=i, id2word=dictionary_tr, passes=2, workers=4)\n",
    "    score = lda_model_tfidf.log_perplexity(doc_term_matrix_te)\n",
    "    s.append(score)"
   ]
  },
  {
   "cell_type": "code",
   "execution_count": 35,
   "metadata": {},
   "outputs": [
    {
     "data": {
      "image/png": "[encoded data removed]",
      "text/plain": [
       "<matplotlib.figure.Figure at 0x1a225c3eb8>"
      ]
     },
     "metadata": {},
     "output_type": "display_data"
    }
   ],
   "source": [
    "#If the perplexity score keeps decreasing, it may make better sense to pick the model \n",
    "#that gave the lowest perplexity before flattening out. This is exactly the case here.\n",
    "x = range(1,40)\n",
    "plt.plot(x, s)\n",
    "plt.xlabel(\"Num Topics\")\n",
    "plt.ylabel(\"Perplexity\")\n",
    "plt.legend((\"Perplexity\"), loc='best')\n",
    "plt.show()\n",
    "#Looks like 34 is optimal here? "
   ]
  },
  {
   "cell_type": "markdown",
   "metadata": {},
   "source": [
    "## LDA Mallet"
   ]
  },
  {
   "cell_type": "code",
   "execution_count": 17,
   "metadata": {},
   "outputs": [],
   "source": [
    "mallet_path = '/Users/xinpengzheng/Downloads/mallet-2.0.8/bin/mallet' # update this path\n",
    "ldamallet = gensim.models.wrappers.LdaMallet(mallet_path, corpus=corpus_tfidf, num_topics=20, id2word=dictionary_tr)"
   ]
  },
  {
   "cell_type": "code",
   "execution_count": 35,
   "metadata": {},
   "outputs": [
    {
     "name": "stdout",
     "output_type": "stream",
     "text": [
      "[(2, [('catalytically', 1.0), ('bulky', 0.0), ('brightness', 0.0), ('pyridone', 0.0), ('functionalizations', 0.0), ('luminophores', 0.0), ('αβdehydrogenation', 0.0), ('βc–h', 0.0), ('alternating', 0.0), ('γδunsaturated', 0.0)]), (3, [('performance', 0.5), ('ticatalyzed', 0.5), ('pyridone', 0.0), ('cerium', 0.0), ('brightness', 0.0), ('understanding', 0.0), ('functionalizations', 0.0), ('bulky', 0.0), ('d2symmetrical', 0.0), ('γδunsaturated', 0.0)]), (13, [('luminophores', nan), ('alternating', nan), ('αβdehydrogenation', nan), ('βc–h', nan), ('γδunsaturated', nan), ('bulky', nan), ('functionalizations', nan), ('pyridone', nan), ('brightness', nan), ('cerium', nan)]), (1, [('node', 1.0), ('functionalizations', 0.0), ('cerium', 0.0), ('brightness', 0.0), ('pyridone', 0.0), ('bulky', 0.0), ('αβdehydrogenation', 0.0), ('βc–h', 0.0), ('understanding', 0.0), ('γδunsaturated', 0.0)]), (0, [('luminophores', nan), ('alternating', nan), ('αβdehydrogenation', nan), ('βc–h', nan), ('γδunsaturated', nan), ('bulky', nan), ('functionalizations', nan), ('pyridone', nan), ('brightness', nan), ('cerium', nan)]), (10, [('inorganic', 1.0), ('pyridone', 0.0), ('functionalizations', 0.0), ('cerium', 0.0), ('brightness', 0.0), ('understanding', 0.0), ('βc–h', 0.0), ('γδunsaturated', 0.0), ('d2symmetrical', 0.0), ('bulky', 0.0)]), (7, [('prevalence', 1.0), ('luminophores', 0.0), ('alternating', 0.0), ('βc–h', 0.0), ('γδunsaturated', 0.0), ('bulky', 0.0), ('functionalizations', 0.0), ('pyridone', 0.0), ('brightness', 0.0), ('cerium', 0.0)]), (18, [('luminophores', nan), ('alternating', nan), ('αβdehydrogenation', nan), ('βc–h', nan), ('γδunsaturated', nan), ('bulky', nan), ('functionalizations', nan), ('pyridone', nan), ('brightness', nan), ('cerium', nan)]), (11, [('total', 1.0), ('functionalizations', 0.0), ('bulky', 0.0), ('brightness', 0.0), ('pyridone', 0.0), ('luminophores', 0.0), ('αβdehydrogenation', 0.0), ('βc–h', 0.0), ('alternating', 0.0), ('γδunsaturated', 0.0)]), (6, [('luminophores', nan), ('alternating', nan), ('αβdehydrogenation', nan), ('βc–h', nan), ('γδunsaturated', nan), ('bulky', nan), ('functionalizations', nan), ('pyridone', nan), ('brightness', nan), ('cerium', nan)])]\n"
     ]
    },
    {
     "name": "stderr",
     "output_type": "stream",
     "text": [
      "/Users/xinpengzheng/anaconda3/lib/python3.6/site-packages/gensim/models/wrappers/ldamallet.py:442: RuntimeWarning: invalid value encountered in true_divide\n",
      "  topic = topic / topic.sum()  # normalize to probability dist\n",
      "/Users/xinpengzheng/anaconda3/lib/python3.6/site-packages/gensim/models/wrappers/ldamallet.py:373: RuntimeWarning: invalid value encountered in true_divide\n",
      "  return topics / topics.sum(axis=1)[:, None]\n"
     ]
    },
    {
     "name": "stdout",
     "output_type": "stream",
     "text": [
      "\n",
      "Coherence Score:  0.6082382972756627\n"
     ]
    }
   ],
   "source": [
    "# Show Topics\n",
    "print(ldamallet.show_topics(formatted=False))\n",
    "\n",
    "# Compute Coherence Score\n",
    "coherence_model_ldamallet = CoherenceModel(model=ldamallet, texts=doc_clean_test, dictionary=dictionary_te, coherence='c_v')\n",
    "coherence_ldamallet = coherence_model_ldamallet.get_coherence()\n",
    "print('\\nCoherence Score: ', coherence_ldamallet)"
   ]
  },
  {
   "cell_type": "code",
   "execution_count": 43,
   "metadata": {},
   "outputs": [
    {
     "name": "stdout",
     "output_type": "stream",
     "text": [
      "\n",
      "Coherence Score:  0.6426873833493799\n"
     ]
    }
   ],
   "source": [
    "##Coherence of lda_tfidf model\n",
    "coherence_model_ldatfidf = CoherenceModel(model=lda_model_tfidf, texts=doc_clean_test, dictionary=dictionary_te, coherence='c_v')\n",
    "coherence_ldatfidf = coherence_model_ldatfidf.get_coherence()\n",
    "print('\\nCoherence Score: ', coherence_ldatfidf)"
   ]
  },
  {
   "cell_type": "code",
   "execution_count": 29,
   "metadata": {},
   "outputs": [],
   "source": [
    "def compute_coherence_values(dictionary, corpus, texts, limit, start=2, step=3):\n",
    "    \"\"\"\n",
    "    Compute c_v coherence for various number of topics\n",
    "\n",
    "    Parameters:\n",
    "    ----------\n",
    "    dictionary : Gensim dictionary\n",
    "    corpus : Gensim corpus\n",
    "    texts : List of input texts\n",
    "    limit : Max num of topics\n",
    "\n",
    "    Returns:\n",
    "    -------\n",
    "    model_list : List of LDA topic models\n",
    "    coherence_values : Coherence values corresponding to the LDA model with respective number of topics\n",
    "    \"\"\"\n",
    "    coherence_values = []\n",
    "    model_list = []\n",
    "    for num_topics in range(start, limit, step):\n",
    "        model = gensim.models.LdaMulticore(corpus_tfidf, num_topics=num_topics, id2word=dictionary_tr, passes=2, workers=4)\n",
    "        model_list.append(model)\n",
    "        coherencemodel = CoherenceModel(model=model, texts=texts, dictionary=dictionary, coherence='c_v')\n",
    "        coherence_values.append(coherencemodel.get_coherence())\n",
    "\n",
    "    return model_list, coherence_values\n"
   ]
  },
  {
   "cell_type": "code",
   "execution_count": 30,
   "metadata": {},
   "outputs": [],
   "source": [
    "# Can take a long time to run.\n",
    "model_list, coherence_values = compute_coherence_values(dictionary=dictionary_te, corpus=corpus_tfidf_te, texts = doc_clean_test, start=2, limit=40, step=6)"
   ]
  },
  {
   "cell_type": "code",
   "execution_count": 31,
   "metadata": {},
   "outputs": [
    {
     "data": {
      "image/png": "[encoded data removed]",
      "text/plain": [
       "<matplotlib.figure.Figure at 0x1a24c73e48>"
      ]
     },
     "metadata": {},
     "output_type": "display_data"
    }
   ],
   "source": [
    "# Show graph\n",
    "limit=40; start=2; step=6;\n",
    "x = range(start, limit, step)\n",
    "plt.plot(x, coherence_values)\n",
    "plt.xlabel(\"Num Topics\")\n",
    "plt.ylabel(\"Coherence score\")\n",
    "plt.legend((\"coherence_values\"), loc='best')\n",
    "plt.show()"
   ]
  },
  {
   "cell_type": "code",
   "execution_count": 32,
   "metadata": {},
   "outputs": [
    {
     "name": "stdout",
     "output_type": "stream",
     "text": [
      "Num Topics = 2  has Coherence Value of 0.6353\n",
      "Num Topics = 8  has Coherence Value of 0.6599\n",
      "Num Topics = 14  has Coherence Value of 0.6989\n",
      "Num Topics = 20  has Coherence Value of 0.7012\n",
      "Num Topics = 26  has Coherence Value of 0.7116\n",
      "Num Topics = 32  has Coherence Value of 0.7263\n",
      "Num Topics = 38  has Coherence Value of 0.7312\n"
     ]
    }
   ],
   "source": [
    "# Print the coherence scores\n",
    "for m, cv in zip(x, coherence_values):\n",
    "    print(\"Num Topics =\", m, \" has Coherence Value of\", round(cv, 4))"
   ]
  },
  {
   "cell_type": "markdown",
   "metadata": {},
   "source": [
    "##### Pick the one after which the coherence starts to flatten out. In this case could be either 15 or 30. "
   ]
  }
 ],
 "metadata": {
  "kernelspec": {
   "display_name": "Python 3",
   "language": "python",
   "name": "python3"
  },
  "language_info": {
   "codemirror_mode": {
    "name": "ipython",
    "version": 3
   },
   "file_extension": ".py",
   "mimetype": "text/x-python",
   "name": "python",
   "nbconvert_exporter": "python",
   "pygments_lexer": "ipython3",
   "version": "3.6.4"
  }
 },
 "nbformat": 4,
 "nbformat_minor": 2
}
