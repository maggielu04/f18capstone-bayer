{
 "cells": [
  {
   "cell_type": "code",
   "execution_count": 33,
   "metadata": {},
   "outputs": [],
   "source": [
    "import os\n",
    "import sys\n",
    "import bs4\n",
    "import requests\n",
    "import time\n",
    "import numpy as np\n",
    "import pandas as pd\n",
    "from bs4 import BeautifulSoup as bs\n",
    "from selenium import webdriver\n",
    "from selenium import webdriver\n",
    "from selenium.webdriver.common.keys import Keys\n",
    "from selenium.webdriver.common.by import By\n",
    "from selenium.webdriver.support.ui import WebDriverWait\n",
    "from selenium.webdriver.support import expected_conditions as EC\n",
    "from selenium.common.exceptions import TimeoutException\n",
    "from selenium.webdriver.chrome.options import Options\n",
    "import re\n",
    "import csv\n",
    "from fractions import Fraction\n",
    "import builtins\n",
    "\n",
    "######### see Lab3 ###############\n",
    "def get_text_from_elements(elements):\n",
    "    \"\"\"Uses list comprehension to parse out the cleaned text strings from a list of\n",
    "    elements returned from a BeautifulSoup selection.\n",
    "\n",
    "    Arguments:\n",
    "        elements {list} -- list of elements returned from a BeautifulSoup selection\n",
    "\n",
    "    Returns:\n",
    "        list -- list of cleaned text contained within the element list\n",
    "    \"\"\"\n",
    "    return [e.text.strip() for e in elements]\n"
   ]
  },
  {
   "cell_type": "code",
   "execution_count": 53,
   "metadata": {},
   "outputs": [
    {
     "name": "stdout",
     "output_type": "stream",
     "text": [
      "['https://pubs.acs.org/toc/jacsat/140/1', 'https://pubs.acs.org/toc/jacsat/140/2', 'https://pubs.acs.org/toc/jacsat/140/3', 'https://pubs.acs.org/toc/jacsat/140/4', 'https://pubs.acs.org/toc/jacsat/140/5', 'https://pubs.acs.org/toc/jacsat/140/6', 'https://pubs.acs.org/toc/jacsat/140/7', 'https://pubs.acs.org/toc/jacsat/140/8', 'https://pubs.acs.org/toc/jacsat/140/9', 'https://pubs.acs.org/toc/jacsat/140/10', 'https://pubs.acs.org/toc/jacsat/140/11', 'https://pubs.acs.org/toc/jacsat/140/12', 'https://pubs.acs.org/toc/jacsat/140/13', 'https://pubs.acs.org/toc/jacsat/140/14', 'https://pubs.acs.org/toc/jacsat/140/15', 'https://pubs.acs.org/toc/jacsat/140/16', 'https://pubs.acs.org/toc/jacsat/140/17', 'https://pubs.acs.org/toc/jacsat/140/18', 'https://pubs.acs.org/toc/jacsat/140/19', 'https://pubs.acs.org/toc/jacsat/140/20', 'https://pubs.acs.org/toc/jacsat/140/21', 'https://pubs.acs.org/toc/jacsat/140/22', 'https://pubs.acs.org/toc/jacsat/140/23', 'https://pubs.acs.org/toc/jacsat/140/24', 'https://pubs.acs.org/toc/jacsat/140/25', 'https://pubs.acs.org/toc/jacsat/140/26', 'https://pubs.acs.org/toc/jacsat/140/27', 'https://pubs.acs.org/toc/jacsat/140/28', 'https://pubs.acs.org/toc/jacsat/140/29', 'https://pubs.acs.org/toc/jacsat/140/30', 'https://pubs.acs.org/toc/jacsat/140/31', 'https://pubs.acs.org/toc/jacsat/140/32', 'https://pubs.acs.org/toc/jacsat/140/33', 'https://pubs.acs.org/toc/jacsat/140/34', 'https://pubs.acs.org/toc/jacsat/140/35']\n"
     ]
    }
   ],
   "source": [
    "jour_urls = list()\n",
    "for i in range(1,36,1):\n",
    "    jour_urls.append(\"https://pubs.acs.org/toc/jacsat/140/\"+ str(i))\n",
    "#print(jour_urls)"
   ]
  },
  {
   "cell_type": "code",
   "execution_count": 54,
   "metadata": {},
   "outputs": [],
   "source": [
    "#put'em in a list\n",
    "art_urls = list()\n",
    "\n",
    "browser = webdriver.Chrome()\n",
    "\n",
    "for url in jour_urls:\n",
    "    browser.get(url)\n",
    "    #data = r.text\n",
    "    time.sleep(5)\n",
    "    soup = bs(browser.page_source, 'html.parser')\n",
    "    for link in soup.find_all('a'):\n",
    "    #print(link)\n",
    "    #regular expression\n",
    "        n = re.search('/doi/abs/', str(link.get('href')))\n",
    "        if not pd.isnull(n):\n",
    "        #print(str(link.get('href')))\n",
    "            art_urls.append(\"https://pubs.acs.org\"+str(link.get('href')))\n",
    "\n",
    "        \n"
   ]
  },
  {
   "cell_type": "code",
   "execution_count": 60,
   "metadata": {},
   "outputs": [
    {
     "name": "stdout",
     "output_type": "stream",
     "text": [
      "[['Enhanced targeted gene transduction by AAV2 vectors is achieved by linking the vector to multiple sgc8 aptamers, which are selective for cell membrane protein PTK7. Aptamer molecules are conjugated to multiple sites on a DNA dendrimer (G-sgc8), which is then linked to AAV2 via a dithiobis(succinimidyl propionate) cross-linker containing a disulfide group, which can facilitate the release of AAV2 vectors by reaction with the reduced form of intracellular glutathione. The G-sgc8-AAV2 vectors showed a 21-fold enhancement in binding affinity and an enhanced ability to protect sgc8 aptamers against nuclease degradation to cells expressing PTK7 compared to single aptamer-AAV2 conjugates. The transduction efficiency was tested by loading AAV2 with the gene for green fluorescent protein. Therefore, this modified recombinant vector is an attractive and promising tool for targeted biomedical applications.'], ['Factors governing the photoelectrochemical output of photosynthetic microorganisms are poorly understood, and energy loss may occur due to inefficient electron transfer (ET) processes. Here, we systematically compare the photoelectrochemistry of photosystem II (PSII) protein-films to cyanobacteria biofilms to derive: (i) the losses in light-to-charge conversion efficiencies, (ii) gains in photocatalytic longevity, and (iii) insights into the ET mechanism at the biofilm interface. This study was enabled by the use of hierarchically structured electrodes, which could be tailored for high/stable loadings of PSII core complexes and Synechocystis sp. PCC 6803 cells. The mediated photocurrent densities generated by the biofilm were 2 orders of magnitude lower than those of the protein-film. This was partly attributed to a lower photocatalyst loading as the rate of mediated electron extraction from PSII in vitro is only double that of PSII in vivo. On the other hand, the biofilm exhibited much greater longevity (>5 days) than the protein-film (<6 h), with turnover numbers surpassing those of the protein-film after 2 days. The mechanism of biofilm electrogenesis is suggested to involve an intracellular redox mediator, which is released during light irradiation.'], ['Two simple acylnitrenes, 2-furoylnitrene (2) and 3-furoylnitrene (6), were generated through 266 nm laser photolysis of the corresponding azides. Both are magnetically bistable in cryogenic matrices, as evidenced by the direct observation of the closed-shell singlet state with IR spectroscopy in solid Ne, Ar, Kr, Xe, and N2 matrices (3–40 K) and the triplet state in toluene (10 K) with EPR spectroscopy (32: |D/hc| = 1.48 cm–1 and |E/hc| = 0.029 cm–1; 36: |D/hc| = 1.39 cm–1 and |E/hc|c = 0.039 cm–1). Subsequent visible-light and UV laser irradiations led to the formation of furyl isocyanates (3 and 7) and ring-opening product 3-cyanoacrolein (9-E and 9-Z), respectively, in which the elusive 3-furylnitrene (38) was also identified by IR and EPR spectroscopy (|D/hc| = 1.12 cm–1 and |E/hc| = 0.005 cm–1).'], ['There is growing interest in designing spatiotemporal control over enzyme activities using noninvasive stimuli such as light. Here, we describe a structure-based, computation-guided predictive method for reversibly controlling enzyme activity using covalently attached photoresponsive azobenzene groups. Applying the method to the therapeutically useful enzyme yeast cytosine deaminase, we obtained a ∼3-fold change in enzyme activity by the photocontrolled modulation of the enzyme’s active site lid structure, while fully maintaining thermostability. Multiple cycles of switching, controllable in real time, are possible. The predictiveness of the method is demonstrated by the construction of a variant that does not photoswitch as expected from computational modeling. Our design approach opens new avenues for optically controlling enzyme function. The designed photocontrolled cytosine deaminases may also aid in improving chemotherapy approaches that utilize this enzyme.'], ['Precise control of particles co-assembly has attracted great attention for fabricating intricate structures and functional materials. However, achieving precise co-assembly of one-dimensional (1D) binary superstructures remains challenging due to the constrained thermodynamic stability and lack of general strategies to control the 1D ordered arrangement of mixed particles. Here, we propose a facile strategy to achieve programmed co-assembly of 1D binary superstructures by liquid soft confinement without particle modification or external field. It reveals that binary particles undergo stepwise confinement and programmed co-assembly in the gradually shrinking and spatially tunable liquid soft confinement. Through tuning the liquid confined space and particles composition, diverse 1D binary superstructures with precisely controlled periodicity, orientation and symmetry are achieved, which shows generality for various particles of different sizes and materials. This work provides a promising route to refined patterning and manufacturing complex materials.'], ['An electrochemical method has been developed for selective benzylic iodination of methylarenes. The reactions feature the first use of N-hydroxyphthalimide as an electrochemical mediator for C–H oxidation to nonoxygenated products. The method provides the basis for direct (in situ) or sequential benzylation of diverse nucleophiles using methylarenes as the alkylating agent. The hydrogen-atom transfer mechanism for C–H iodination allows C–H oxidation to proceed with minimal dependence on the substrate electronic properties and at electrode potentials 0.5–1.2 V lower than that of direct electrochemical C–H oxidation.'], ['Here, we report molecular chaperone GroELs that carry, at their apical domains, multiple DNA strands (ideally 28 DNA strands in total) with defined oligonucleotide (nt) sequences. This design strategy allows for the preparation of GroEL10a and GroEL10b carrying 10-nt DNA strands of 10a and 10b with complementary sequences, respectively, at their apical domains. One-dimensional coassembly of these GroELs is possible to form protein nanotube NT10a/10b with an anomalous thermodynamic stability due to the exceptionally large multivalency for the coassembly. Likewise, comparably stable nanotube NT15c/10d was obtained even when the apical-domain DNA strands (15c and 10d) were partially complementary to one another. Nevertheless, in sharp contrast with NT10a/10b, NT15c/10d, when incubated with DNA 15d, dissociates rapidly and completely because 15d preferentially hybridizes with the DNA strands of 15c in NT15c/10d by displacing those of 10d, to afford a mixture of GroEL15c/15d and GroEL10d. Even in the presence of NT10c/10d, 15d cleaved off NT15c/10d selectively, indicating the potential utility of NTs for targeted delivery.'], ['A general strategy of delivering hydrogen persulfide (H2S2) is described herein. Esterase- and phosphatase-sensitive H2S2 prodrugs with tunable release rates have been synthesized. Their utility is validated in examining protein S-persulfidation. With this unique approach of directly delivering H2S2, our findings reaffirmed that S-persulfidation leads to decreased activity of glyceraldehyde 3-phosphate dehydrogenase. This new approach complements available prodrugs/donors that directly deliver a single species, including hydrogen sulfide, perthiol, and COS, and will be very useful as part of the toolbox for delineating the mechanisms of sulfur signaling.'], ['Cryo-electron microscopy and X-ray crystallography have shown that the pre- and postfusion states of the HIV-1 gp41 viral coat protein, although very different from one another, each adopt C3 symmetric structures. A stable homotrimeric structure for the transmembrane domain (TM) also was modeled and supported by experimental data. For a C3 symmetric structure, alignment in an anisotropic medium must be axially symmetric, with the unique axis of the alignment tensor coinciding with the C3 axis. However, NMR residual dipolar couplings (RDCs) measured under three different alignment conditions were found to be incompatible with C3 symmetry. Subsequent measurements by paramagnetic relaxation enhancement, analytical ultracentrifugation, and DEER EPR, indicate that the transmembrane domain is monomeric. 15N NMR relaxation data and RDCs show that TM is highly ordered and uninterrupted for a total length of 32 residues, extending well into the membrane proximal external region.']]\n"
     ]
    }
   ],
   "source": [
    "sub_art_list = art_urls[1:10]\n",
    "\n",
    "text_list = list()\n",
    "\n",
    "browser = webdriver.Chrome()\n",
    "\n",
    "\n",
    "for url in sub_art_list:\n",
    "    browser.get(url)\n",
    "    #data = r.text\n",
    "    time.sleep(5)\n",
    "    soup = bs(browser.page_source, 'html.parser')\n",
    "    textblock = get_text_from_elements(soup.select(\"p.articleBody_abstractText\"))\n",
    "    text_list.append(textblock)\n",
    "    \n",
    "print(text_list)"
   ]
  },
  {
   "cell_type": "code",
   "execution_count": 56,
   "metadata": {},
   "outputs": [
    {
     "name": "stdout",
     "output_type": "stream",
     "text": [
      "1700\n"
     ]
    }
   ],
   "source": []
  },
  {
   "cell_type": "code",
   "execution_count": null,
   "metadata": {},
   "outputs": [],
   "source": []
  }
 ],
 "metadata": {
  "kernelspec": {
   "display_name": "Python 3",
   "language": "python",
   "name": "python3"
  },
  "language_info": {
   "codemirror_mode": {
    "name": "ipython",
    "version": 3
   },
   "file_extension": ".py",
   "mimetype": "text/x-python",
   "name": "python",
   "nbconvert_exporter": "python",
   "pygments_lexer": "ipython3",
   "version": "3.6.4"
  }
 },
 "nbformat": 4,
 "nbformat_minor": 2
}
